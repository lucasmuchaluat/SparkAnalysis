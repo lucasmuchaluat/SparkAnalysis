{
 "cells": [
  {
   "cell_type": "code",
   "execution_count": 1,
   "metadata": {},
   "outputs": [],
   "source": [
    "import pyspark"
   ]
  },
  {
   "cell_type": "code",
   "execution_count": 2,
   "metadata": {},
   "outputs": [],
   "source": [
    "sc = pyspark.SparkContext(appName=\"teste\")"
   ]
  },
  {
   "cell_type": "code",
   "execution_count": 3,
   "metadata": {},
   "outputs": [
    {
     "data": {
      "text/html": [
       "\n",
       "        <div>\n",
       "            <p><b>SparkContext</b></p>\n",
       "\n",
       "            <p><a href=\"http://192.168.0.191:4040\">Spark UI</a></p>\n",
       "\n",
       "            <dl>\n",
       "              <dt>Version</dt>\n",
       "                <dd><code>v3.0.1</code></dd>\n",
       "              <dt>Master</dt>\n",
       "                <dd><code>local[*]</code></dd>\n",
       "              <dt>AppName</dt>\n",
       "                <dd><code>teste</code></dd>\n",
       "            </dl>\n",
       "        </div>\n",
       "        "
      ],
      "text/plain": [
       "<SparkContext master=local[*] appName=teste>"
      ]
     },
     "execution_count": 3,
     "metadata": {},
     "output_type": "execute_result"
    }
   ],
   "source": [
    "sc"
   ]
  },
  {
   "cell_type": "code",
   "execution_count": 4,
   "metadata": {},
   "outputs": [
    {
     "data": {
      "text/plain": [
       "1000"
      ]
     },
     "execution_count": 4,
     "metadata": {},
     "output_type": "execute_result"
    }
   ],
   "source": [
    "sc.parallelize(range(1000)).count()"
   ]
  },
  {
   "cell_type": "code",
   "execution_count": 5,
   "metadata": {},
   "outputs": [],
   "source": [
    "rdd = sc.sequenceFile(\"web_brasil_small/part-00000\") #rdd = sc.textFile(\"web_brasil_small/part-00000\")"
   ]
  },
  {
   "cell_type": "code",
   "execution_count": 6,
   "metadata": {},
   "outputs": [
    {
     "data": {
      "text/plain": [
       "36133"
      ]
     },
     "execution_count": 6,
     "metadata": {},
     "output_type": "execute_result"
    }
   ],
   "source": [
    "rdd.count()"
   ]
  },
  {
   "cell_type": "code",
   "execution_count": 7,
   "metadata": {},
   "outputs": [
    {
     "data": {
      "text/plain": [
       "1162"
      ]
     },
     "execution_count": 7,
     "metadata": {},
     "output_type": "execute_result"
    }
   ],
   "source": [
    "rdd.filter(lambda x: \"fiscal\" in x[1]).count()"
   ]
  },
  {
   "cell_type": "code",
   "execution_count": 8,
   "metadata": {},
   "outputs": [
    {
     "data": {
      "text/plain": [
       "[('https://sebodomessias.com.br/suas_compras.aspx?retirar=0&action=1&idItem=2023136',\n",
       "  'Sebo do Messias - Suas Compras\\nLivroDVDCDLPGibiRevista\\n|\\nBusca avancada\\nBem-vindo ao\\nSebo do Messias.\\nFaça o seu LOGIN\\nMinha conta\\nAlterar senha\\nAlterar Email\\nMeu Carrinho\\nHistórico de Pedidos\\nMeus Interesses\\nSair\\n1\\nNão possui conta?\\nCadastre-se\\nOlá, seja bem-vindo!\\n×\\nPara prosseguir, por favor identifique-se utilizando os campos abaixo e depois clique no botão “ENTRAR”.\\nE-mail\\nSenha\\nEsqueci minha senha\\nEsqueceu sua senha?\\n×\\nPreencha o seu email no campo abaixo e clique no botão \"ENVIAR\".\\nE-mail\\nFaça seu login\\nConfirmado!\\n×\\nEnviamos uma mensagem em seu e-mail para alteração de senha.\\n(se não encontra-lo, verifique sua caixa de spam).\\nFaça seu login\\nNão possui conta?\\nCadastre-se\\nBusca Avançada\\n×\\nIndique as opções relevantes a sua busca.\\nBusca por: LivroDVDCDLPGibiRevista\\nÁlbum:\\nArtista / Banda:\\nAno:\\nGravadora: Selecione uma Gravadora32 Blues4adABKCOABRIL MUSICAburagsAbwAceAftermath RecordsAll DiscAllegro CorporationAlligatoralmo soundsAltayaAM RecordsAmazon RecordsAMERICAN RECORDSAmherst RecordsAMLAngelANTI CORPOS RECORDSAppleApricotArcadeArise RecordsArista RecordsArsenalArt BrasilArte Nova ClassicsArts MusicArtSomASVAtaque FrontalATCOAtlantic RecordsAtmosphériques MusicAtração FonograficaAudiopressAvex TraxAxe KillerAzul MusicB-UniqueBama RagsBand MusicBanister RecordsBarclayBarking PumpkinBarulho RecordsBeechwoodbeyond musicBico do CorvoBig Beat RecordsBig MachineBig Rock MusicBiscoito FinoBlack Beat RecordsBlack Market RecordsBlack SaintBlak Blue RecordsBlanco Y NegroBlock 2 PicturesBlue NoteBlue Rock ItBluntBMGBMG Music GroupBPCBrandallesBrasidiscBrazilbizz RecordsBROTHER RECORDSBrushfire RecordsBuilding RecordsBureau ExportCafé Del MarCalypso ProduçõesCamelotCameratiCandidCapitol RecordsCaroselloCasa NostraCASTLECastle Comcastle musicCaytronicsCBSCD CenterCD GrafCD SolutionCD+Celestial RecordsCentury MediaChall`OmusicChandosChanteclerChaosChapter RecordsCharisma RecordsCharlyCheap Lullaby RecordsCHINA RECORDSchrysalis recordsCIDCirque Du SoleilCity BeatClub StarCMC RECORDSCogumelo RecordsColumbiaCommanderCommander ClassicComposeConcertoConcord RecordsCONCRETE RECORDSConnoisseurContinentalCopacabanaCountdownCPC-UMESCreative CommonsCri Du Chat DisquesCritique RecordsCromwellCURB RECORDScutting recordsDacapoDance MusicDCCDead Dead Good RecordsDeadlineDeath Row RecordsDebut RecordsDecca RecordsDecca Universal MusicDeck discDeeJay Gigolo RecordsDelicious VinylDelosDelta MusicDeutsche GrammophonDiamondtraxxDiante do TronoDie Young Stay PrettyDinoDischiDiscobertasDiscos AMCDiscos Marcus PereiraDiscovery HouseDiskyDISQUES DREYFUSDominoDouble PlayDREAMWORKSDRG RecordsDryice RecordsDuchessDwell recordsDynamicEAGLE RECORDSEASTWEST RECORDSEASY STREET RECORDSECM RecordsEdel RecordsEdiciones Del PradoEdiciones GyCEl Cartel RecordseldoradoElektra RecordsEmarcy RecordsEMIEnja RecordsEpicEPITAPH RECORDSEssence RecordsEvidenceExcelente DiscosFábrica de SomFábrica DiscosFace Value recordsFantasy RecordsFAT BOY RECORDSFFRRFiction RecordsFieldzzFINN RECORDSFonovisaFORBIDDEN RECORDSFORCEMAJEURE RECORDSfullgásGABAJU RECORDSGalaGarapuíGeffen RecordsGemaGEMA RECORDSGERMAN RECORDSGiant RecordsGlobalundergroundGlobo DiskGN RecordsGol RecordsGoldenlane RecordsGOLDIES RECORDSGospel RecordsGraça MusicGroove NoteGRP RecordsGTLGun RecordsHardcore MusicHed Kandi RecordsHeinz RecordsHELLION RECORDSHidden Beach RecordsHOLLYWOOD RECORDSHope RecordsHouse of BluesHouse RecordsI RECORDSI.R.S. RecordsIMAGEM RECORDSIndie RecordsIndigo RecsInspiredInstinct RecordsInterCD RecordsInterdiscINTERSCOPE RECORDSIntradaIso RecordsITHJ. RecordsJam MusicJamDown RecordsJaspacJazz In The CityJAZZ STATION RECORDSJHOJMS MusicJourneysbyJouverJVCK-TelKamaradKaskata\\'sKbnha RecordsKebarKings XKivesKochKuarup Recordslaface recordsLaser CompanyLaser RecsLAVALeader MusicLegaryLibertyLine RecordsLiveLive StormLivraria SemeadorLogic Recordslondon recordsLuaLuanda RecordsLuarttiLumiar DiscosMadacyMaiangaMALASANA RECORDSMange DiscMangeDiscManhattan RecordsMASSACRE RECORDSMasterclassMastersomMATADOR RECORDSMaurício ProduçõesMAVERICK RECORDSMax JazzMax MusicMáximaMaxpop MusicMBBMCA RecordsMCDMCKMCPSMDCMedia FashionMelodiyaMelodyMemoMercury RecordsMesaMetal BladeMetropolisMilanMilestoneMillenniummillsMinistry RecordsMix RecordsMJJMK PUBLICITÁMODERN MUSICMODO MAIORModularMojoMONSTRO DISCOSMotown RecordsMovie PlayMpbMPSMundo MelhorMushroom RecordsMusic 2thMusic ArtsMusic BrokersMusic CollectionMusic TapeMusidiscMute RecordsMZA MUSICN-CODED MUSICNaïve RecordsNany CDsNara MusicNaradaNatasha RecordsNative LanguageNaxosNettwerk RecordsNikitaNimbus RecordsNMC MusicNoise RecordsNonesuchNorteNova EstaçãoNOVODISCNpg RecordsNUCLEAR BLASTNueve de CopasNUMBER ONE MUSICNuova Era RecordsOBJECT ENTERPRISESOdeonOID MORTALESOigalêOn-U SoundOne Down One Up - Live at the Half NoteOne IdeaOrbeat MusicOreadeOriginal MusicOsespOsmose ProductionsOTHER HISTORY RECORDSOur ChoiceOuro recordsOuver RecordsOuvir e CrerOzz RecordsPablo RecordsPachaParadiseParadoxxParlophonePartnersPaulinasPaulusPavane RecordsPDUPendagronPenguin HighBridgePetrol RecordsPhilipsPhino RecordsPhonodiscPhonomotorPhontasticPilzPioneerPlatinumPlay It Again SamPLAYARTEPMFPoint MusicPOLY MUSICPolydorPolygramPolystarPRA RECORDSPrestige RecordsPrimalPriority RecordsPrivate MusicProjectPURPLE PYRAMIDPutumayoPyramid RecordsQRQuinlan RoadR. C. ARabidRadar RecordsRadioactive RecordsRaw PowerRB MusicRCBRDS FONOGRÁFICAReact MusicReader\\'s Digest MúsicaReco-HeadRecord ResearchRed FeatherRed PhantomRepertoire RecordsReprise RecordsRepublic RecordsRestless RecordsRevivendoRevolution RecordsRex RecordsRGERhino RecordsRhombus RecordsRinaldiRiverside RecordsROADRACERRoadrunnerRob DigitalROCK BRIGADE RECORDSRock CompanyRoswell RecordsRotten RecordsRough TradeRounder RecordsRTIRuff RyderRUNAWAY RECORDSRyko FzRyko RecordsSabiáSam\\'s FamilySanctuary RecordsSandstoneSanta MúsicaSão Paulo Imagem DataSarabandasSax SambaSBK RecordsScalaScandinavian RecordsSERIOUS RECORDSSESCSeven MusicShady RecordsSharp Nine RecordsSIGLASignatureSIRE RECORDSSka SateliteskintSky Blue MusicSLAG RECORDSSMDSom livreSom TropicalSomewaxSomil RecordsSonergiaSonho MaiorSonhos e SonsSonopressSONY & BMGSony musicSoulStarSound Design Recordssoundboard recordsSparrowSpectrumSPINEFARM RECORDSSpitfireSPOTLIGHT RECORDSSST RecordsSt. ClairST2 RecordsStar RecordsSTARLITE RECORDSSternsStockholm RecorsStradivariusStrictlySubsoloSubversão RecordsSugarSum RecordsSuperfly RecordsSwindle RecordsSycoTaurusTelarcTeldecTEN CLUBThe B Side MusicThe IncThe Inc RecordsThird Mind RecordsTime Warner AudioBooksTJBTomatoTommy Boy MusicToy\\'s FactoryTramaTransferTRATORE RECORDSTrês BélleTriloka RecsTringTuff GangTurn LeftTV LineTVTUnimar MusicUnion SquareUniversal MusicV2 MUSICVanguardVarèse SarabandeVarèse VintageVELASVERTIGOVerve MusicVice RecordsVineyard MusicVirginVirgulaVirusVP RecordsWagramWalt DisneyWarner MusicWarpWEAWeb RockersWestboundWETWind-Up RecordsWindham Hill RecordsWinterWordWork MusicWorld CircuitWorld MusicWounded Bird RecordsYabasta RecordsYB MusicYewo MusicZEKAP GOSPEL MUSICzero corporationZillion RecordsZimbabweZIRIGUIBOOM GRAMMED DISCZOMBA RECORDS\\nGênero: Selecione um AssuntoInfantilBluesCantoras e Cantores InternacionaisClássicosColetâneasDance e Música EletrônicaForróGospelInfantilInstrumentalJazzMPBBossa NovaMúsica LatinaNew AgeOrquestrasPop e Rock NacionalPop InternacionalRap, R&B, Funk e SoulReggaeRock InternacionalSamba, Axé e PagodeSertanejo e CountryTrilha SonoraWorld Music\\nMúsica:\\nNacional\\nImportados\\nPreço:\\n0 10000\\nÁlbum:\\nArtista / Banda:\\nAno:\\nGravadora: Selecione uma GravadoraA. Long Book RecordAbril CulturalAM RecordsAngelAntler RecordsAppleArchivariolaArlequimATCOAtlantic RecordsATLAS RECORDSAttualAVM DiscosBARATOS AFINSBarclayBeverlyBiscoito FinoBMGBorges & DamascenoC.E.CCameoCapitolCapitol RecordsCaytronicsCBSChall`OmusicChaosChico Citychrysalis recordsColumbiaContinentalCopacabanaDecca RecordsDelphineDeutsche GrammophonDWA RECORDSElektra RecordsElencoElétricasEmber RecordsEMIEMI ODEONEpicEssence RecordsEstúdio EldoradoFenixFermataFONTANAFunarteGeffen RecordsGoldenlane RecordsGroove NoteGull RecordsHarmonia MundiHarmonyHARVEST RECORDSHispa VoxHungarotonHyperionImperialImpulseInspiredisland recordsITHJ. RecordsKarussellKitchenwareLançaLondonMCA RecordsMercury RecordsMGMMotownMovie PlayMovietoneMute RecordsNovusOdeonOdysseyOlympusPhilipsPhino RecordsPolydorPolygramPremierPrestige RecordsPrivate MusicProjectPROMEMUSRCARé-SolReprise RecordsRex RecordsRGERifiRyko FzSabiáSanctuary RecordsSinterSIRE RECORDSSomSom BrasilSom da GenteSom livreSomil RecordsStetTapecarTHGTurnaboutUniversalVERTIGOVerve RecordsVirginVox MusicalisWarner BrosWEAWINDHAM HILLWorld RecordsZE RECORDS\\nGênero: Selecione um AssuntoTangoVariadosClássicosColetâneasDance e Música EletrônicaForróGospelInfantilInstrumentalJazzMPBBossa NovaMúsica LatinaNew AgeOrquestrasPop e Rock NacionalPop InternacionalRap, R&B, Funk e SoulReggaeRock InternacionalSamba, Axé e PagodeSertanejo e CountryTrilha SonoraWorld MusicTango\\nMúsica:\\nNacional\\nImportados\\nPreço:\\n0 10000\\nTítulo:\\nAtores:\\nRegião: Selecione uma RegiãoRegião 1Região 2Região 3Região 4Todas (All)\\nGravadora: Selecione uma Gravadora2MABRIL MUSICÁgataalpha filmesAmazonasAPFAppleArgos FilmsArsenalAspenAtlantic RecordsATRAÇÃOAttaBiscoito FinoBMGBompastorBUENA VISTABuilding VideoBUTTMANcalifornia filmesCapitol RecordsCaribe VídeoCasablancaCD PromoChina VideoCine ArtCinemagiaClassic lineColumbiaContinentalCOOPERDISCCoqueiro VerdeCrazy TurkeyCulturaD+T LTDA.DaylightDeAgostiniDia FilmeDigeratiDistrivideoDoble ChapaDominoDOMO RECORDSDream WorksDuettoDVD PalaceDVD TOTALDynafilmesEAGLE VISIONEASTASIA RECORDSEcranEdições Musicais MolequeEdiouroEditechEditora TrêsEMIEpicErotikaEscalaESTÚDIO DE CINEMAESTUDIO GABIAETCEuropa FilmesEXPLÍCITAFallmsFantasy RecordsFator XFiestaFIFAFil WaysFlashstarFOCUS FILMESFoxGalvão EditoraGativideoGemaGlass MusicGlobaldiscGlobo VideoGol FilmesGol RecordsGradienteHMPHOLLYWOOD PICTURESHome VisionHotsexxxyIcaroImagem FilmesImovisionINAKUSTICIndependenteIndie RecordsInterfilmJAMJefKoallaLíder FilmesLogonLONDON FILMSLS DigitalLucas FilmesLWMablanMagnus OpusMD MovieMedia GroupMedia PromoMelMellion RecordsMercury RecordsMGMMIRAMAXMK MUSICMKT CultMonasexyMOVIE STARMovieplayMultiplikMundo MágicoMute RecordsMZA MUSICNada ConstaNativaNboNeo MaxNEW LINENFKNorfolkNova FormaOceanOrbitalParadigmaParalelo\\'sParamount PicturesParis FilmesPEIXESPlanet SexPlataPlatinaPLAYARTEPlaydiscPolar MusicprivatePROFILMESPutzmanQRRed AngelRed SunRhythm and BluesRIMORiraMaxRMRM2Rocha SoluçõesSanRIOSantosSex SitesSEXTURY VIDEOSICSilver ScreenSky BlueSom livreSonopressSony PicturesSoul Brotherspectra novaSpeech WorksSpotST2 VideoStarStar DiscosStar VisionSTUDIO GABIASum RecordsSUTRASwenTape WorldTop TapeTOUCHSTONETramaTRISTARUniversalUSA FilmesVAN BLADVersatilVerve MusicVideo FilmesVideolarVintage FilmesVirginVividVZ MultimídiaWalt DisneyWarner BrosWarner MusicWEAWin FilmesWORKS EDITORAWTFZOMBA RECORDS\\nGênero: Selecione um AssuntoAção/AventuraClássicosComédiaDocumentáriosDramaDVD`s ImportadosFicçãoGuerraInfantilMusicaisNacionaisPornôRomanceSuspenseTerrorWestern\\nIdioma: Selecione um IdiomaAlemãoÁrabeBúlgaroCantonêsChinêsCoreanoDinamarquêsEslovenoEspanholFinlandêsFrancêsGregoHebraicoHindúHolandêsHúngaroIndígenas do BrasilInglêsIslandêsItalianoJaponêsLatinLituanoMandarinNorueguêsPolonêsPortuguêsRomenoRussoSuecoTailandês\\nPreço:\\n0 10000\\nTítulo:\\nAutor:\\nAno:\\nNúmero:\\nMês: Selecione um MesJaneiroFevereiroMarçoAbrilMaioJunhoJulhoAgostoSetembroOutubroNovembroDezembro\\nEditora: Selecione uma EditoraAbrilAtitudeBertrandBest NewsBrain StoreBrasil AmericaComics Art NewsConradD-ArteDCDevirEbalEdições BLCERIFactoid BooksGloboImageJBCKing FeaturesL&PMMartins FontesMarvelMaterMauricio de SousaMeribérica/LiberMythosOpera GraphicaPaladinoPaniniPenguin BooksRecordRGERio GráficaSaberTudo Em QuadrinhosVecchiVHDWalter Herdeg The Graphis Press\\nAssunto: Selecione um AssuntoAsterixBatmanConanDark Horse ComicsDC ComicsDiversosEpopéiaEróticoFantasmaFaroesteFlash GordonHomem AranhaImage/WildstromMangáMarvelOs Novos TitãsPrincipe valenteSadmanSpawnSpiritSuper HomemTerrorTexTurma da MônicaVertigoWalt Disney X-MenX-Men ExtraX-Men PremiumXuxá/Pequeno SheriffZagor\\nIdioma: Selecione um IdiomaAlemãoÁrabeBúlgaroCantonêsChinêsCoreanoDinamarquêsEslovenoEspanholFinlandêsFrancêsGregoHebraicoHindúHolandêsHúngaroIndígenas do BrasilInglêsIslandêsItalianoJaponêsLatinLituanoMandarinNorueguêsPolonêsPortuguêsRomenoRussoSuecoTailandês\\nPreço:\\n0 10000\\nTítulo:\\nAno:\\nNúmero:\\nMês: Selecione um MesJaneiroFevereiroMarçoAbrilMaioJunhoJulhoAgostoSetembroOutubroNovembroDezembro\\nEditora: Selecione uma Editora[s.n.]A Gazeta EsportivaAbrilAbril JovemBloch EditoresGloboNational GeographicO Cruzeiro S.A\\nAssunto: Selecione um AssuntoA Gazeta EsportivaArquiteturaAuto EsporteAutomobilísticaCaros Amigos DiversosEm GuardaEróticoGLSMancheteMotociclismoNational GeographicO CruzeiroO Tico TicoPlacarPlayboyRádio, Tv & CinemaRealidadeRevistas de EstudoSeleçõesSuper InteressanteXadrez\\nIdioma: Selecione um IdiomaAlemãoÁrabeBúlgaroCantonêsChinêsCoreanoDinamarquêsEslovenoEspanholFinlandêsFrancêsGregoHebraicoHindúHolandêsHúngaroIndígenas do BrasilInglêsIslandêsItalianoJaponêsLatinLituanoMandarinNorueguêsPolonêsPortuguêsRomenoRussoSuecoTailandês\\nPreço:\\n0 10000\\nTítulo:\\nAutor:\\nEditora: Selecione uma Editora? - São Paulo[s.n.]34A GirafaA MetzA Signet BookA. Lacroix Et CiaA.A.BalkemaAASPAbbeville PressAberjeAbramsAbrilAbril JovemABZAC - Atelier CulturalAcademia Brasileira de LetrasAcademia de InteligênciaAcademic PressAcadêmicaAddison WesleyAduaneirasAFHAAfrontamentoAGEAgirÁgoraAgropecuáriaAguilarAHAAideAIHA PressAillaud & BertrandAlaricoAlbin MichelAlegroALEPHAlfa - OmegaAlfa-OmegaAlfaguaraAliançaAliança de FraternidadeAlianza EditorialAlíneaAll BooksAllyn and BaconAltanaAlvoradaAM EdiçõesAmacomÂmbito CulturalAn Aspen PublicationAnchietaAnchor BooksAngraAnhambiAntídotoAntonio Tersol EditorAntroposóficaAnúbisAo Livro TécnicoAPA - PublicationsAppleAppletree PressAquarianaAramburu PamplonaArgosAriel - Rio De JaneiroARTArte & CiênciaArtech HouseArtenovaartes e ofíciosArtes MédicasArthaudARTLYSArtmedARXAsaasppectusAssahiAssírio & AlvimAssociação Beneficiente TobiasAssoulineAteliê EditorialAtenienseAtheneuÁticaAtlasAtosAtualaugustusAuroraAvanteAvatarAve-MariaAvelino Tavares CardosoAxcel BooksB. L. GarnierBack Bay BooksBallantine BooksBanco CidadeBantam BooksBarracudaBarse & Co.Batista RegularBBDBEIBelsberkeleyBerkleyBerlendis & VertecchiaBerlitzBertrandBest BolsoBest SellerBESTBOOKBIBLIEXBiblioteca do ExércitoBirkhäuserBlackwellBlochBloomsburyBlumeBM&FBoa LeituraBOA NOVABoitempobompastorBONACCI - ROMABookmanBooksellerBosch - BarcelonaBrandBRASIL DEBATESBRASÍLIABRASÍLIA/RIOBrasilianaBrasilienseBRASPORTBriguetBrooks & ColeBurns&OatesButterworth-HeinemannCABRALCalmann-LévyCambridgeCaminhoCampusCANÇÃO NOVACARAMELOCarasCasa AmarelaCasa da MedalhaCasa da QualidadeCasa do Estudante do BrasilCASA DO PSICÓLOGOCasa dos EspíritosCasa Editorial SchimidtCASA MARIACasa Publicadora BrasileiraCasa VanordenCassellCátedraCathoCCGLCEIMECCelebrisCELESTIAL ARTSCeltaCENTURYCERESCerfChainChancellor PressChapman & HallChardronCharpentierChartwell BooksCHEDChene - FrançaCHURCHILL LIVINGSTONECiência ModernaCientíficaCirculo do LivroCitadel PressCivilização BrasileiraClaridadeCLARKSON POTTERCLUBE DO LIVROCmp BookscmsCODECRICódexCoimbra EditoraCollinsCollins London And GlasgowColumbia University PressCompanhia das LetrasCompanhia das LetrinhasCompanhia de FreudCompanhia Editora NacionalCompanhia Editora PanôramaCompanhia Editorial PaulistaCompañia Bibliografica Española ,S.A.ComunicaçãoConanCONCÓRDIAconexConquistaConradContextoContrapontoCopolaCoriolisCorreio FraternoCortezCosac & NaifyCPCCrc PressCRÍTICACrownCtbaCultrixCulturacultura acadêmicaCultural PaulistaCupoloCyberAge BooksD&ZDa Capo PressDALLOZDanaeDBADE DIREITODEBOLSILLODel ReyDel SerbalDeltaDepartamento de Imprensa NacionalDesclée de Brower et Cie.DesnivelDeux Coqs D\\'orDezembro EditorialDial PressDIALÉTICADifelDifusãoDIGERATI BOOKSDillmontDimepDinalivroDINÂMICA EDUCACIONAL LTDA.Discursodix editorialDkDo AutorDominusDott. A. GiuffréDoubledayDover Booksdover PublicationsDPJDPLDryden PressDU CHÊNEDupratE-PapersE. RokaE.P.UEbalEBARTEchenique Irmãos & Cia - EditoresECOARTEEDELBRAEDELSAEDESPLANEdgard BlucherEDIÇÃO PASTORALEdições 70Edições AfroditeEdições AlumbramentoEdições AvanteEdições BlochEdições CosmosEdições Cultura Brasileiraedições de ouroEdições InvençãoEdições LeiaEDIÇÕES MMEDICONEdimaxEdiouroEdipanEDIPROEdipromoEDITIONS ESPACES 34Editora 34Editora AEditôra das Américaseditora dos clássicosEditora EspiritualistaEditora IndexEditora UnificadoEditorial AmadioEditorial FuturaEditorial Iberia S.A.Editorial Inquerito LimitadaEditorial JuventudEditorial PaulistaEditorial Renacimientoeditorial verboEdizioni Dell\\'ateneoEduardo da Costa Santos & Livraria Civilização - PEDUCEDUCATOREducsEduscEduspEel Pie PublishingekoELECTAElevaçãoElle di ciEllis HorwoodELOElsevierELVETICAElvino Pocai - São PauloEmecéEmpresa das ArtesEmpresa Literária FluminenseEMWENIGMÍSTICA MODERNAENSAIOEpistemologia e SociedadeEPUBEPUCÉricaErnesto Chardron - PortoESCALAESCORPIÃOEscriptorio da Sociedade Editora - LisboaEscutaESPAÇO E TEMPOEspasa-CalpeEstação LiberdadeEstampaETERNAEuropa-AméricaEverestEVERGREENExcelentísimo Ayuntamiento de Villanueva de la SerExcellusExpressão e Culturaexpressão popularF. Briguiet & CiaF. W. Bridges & SonsFAAPFactoid BooksFACULDADE DA CIDADEfapespFARRAR STRAUS & GIROFasquelleFawcett ColumbineFayardFederação Espírita BrasileiraFEESPFénixFeral HouseFernando Machado & Cia.FERNIFFLCH/USPFGVFiocruzflamboyantFlammarionFolha de S.PauloFondo de Cultura EconómicaFONTE VIVAForenseForense UniversitáriaFormatoFORUMFrancisFrancisco AlvesFrancisco Arthur da SilvaFrase editoraFreal HouseFREE PRESSFreedom of Mind PressFrenteFt - Pitman PublishingFtdFunarteFundaçao Bienal de São PauloFundação Calouste GulbenkianFundação PeirópolisFUNDAÇÃO UBALDINO DO AMARALFundamentoFundapFundo de CulturaFUNPECFuturaGaiaGalaxiaGallach - BarcelonaGallimardGarnierGarzantiGêneseGenteGeração EditorialGermapeGetúlio CostaGG - Gustavo GiliGirassolGIZGlobalGloboGLSGNOSEGOTHAM BOOKSGoverno do Estado de SPGpcGraalGRAÇAGrafitGramophone PublicationsGreat BritainGreenwich HouseGRIJALBOGroundGRÜNDGryphusGuanabaraGuanabara Kooganguarda chuvaHachetteHAGNOSHammond IncorporatedHAMPTON ROADSHandanHANNACROIX CREEKHarbraHARLEQUIN BOOKSharper & rowHarper Collins PublishersHarper PerennialHARPER TORCHHarperSanFranciscoHarry N. AbramsHBS PRESSHedraHEINEMANN ELTHeinemann Medical BooksHemusHerderhermesHODDER & STOUGHTONHOLT RINEHART AND WINSTONHORIZONTEhorizontesHOUGHTON MIFFLINHucitecHuman KineticsHYPERIONÍbisIBPEXIbrasaÍconeIDE - INSTITUTO DE DIFUSÃO ESPÌRITAIdea Group PublishingIFACIluminurasIMAGES PUBLISHINGImagoImeche SeminarImperial College PressImprensa Litterario-ComercialImprensa Nacional - Rio De JaneiroImprensa Nacional de LisboaImprensa OficialImprensa Oficial - BahiaImprensa RégiaImpresImprinta Gráfica e EditoraINÉDITAInfinitoInstInst. PiagetINSTITUTO DE DIFUSÃO ESPÍRITAInstituto do Açúcar e do ÁlcoolInstituto Nacional do LivroInstituto NefruINSTITUTO PROGRESSO EDITORIALInterciênciaINTERLINK BOOKSInternational Labour OficceINTRÍNSECAIPANEMAIrinaIRISIANAItatiaiaItauJ. M. C. Seabra & T. Q. AntunesJ. P. AillaudJ. S.J.OzonJaboticabaJacintho Ribeiro dos SantosJALOVIJason Aronson IncJavoliJBIGJelmar PublishingJobim MusicJODY DUNCANJOHN MURRAYJohn WileyJONOFONJorge ZaharJosé AguilarJOSE ALVAROjosé bushatskyJosé OlympioJossey-BassJuarez de OliveiraJuerpJulexJulio GroosJulio RamosJurídica BrasileiraKensington BooksKLUWER ACADEMICKNICKERBOCKERKÖNEMANNKosmosL&PML\\'HuillierLA DÉCOUVERTELabortextolacerdaLachâtreLADDERLaemmert & CiaLAGOALakelandmarkLandscapeLandyLapponiLarousseLAURENCE KINGLavoisierLe RobertleallebLedLeite Ribeiro & MaurilloLeituraLello & IrmãoLEMOS & CRUZLemos EditorialLes Éditions du Cerf - ParisLes usuelsLetras à MargemLEUDLewis PublishersLexLexisLiber JurisLibrairie AcadèmiqueLibrairie CH. DelagraveLibrairie GrundLibrairie Hachette et CieLidadorLÍDERLILIVROSLiraLISMALittle Brown & CompanyLivramentoLIVRARIA ACADÊMICALIVRARIA ALMEDINALivraria BofoniLIVRARIA CLÁSSICA EDITORA DE A. M. TEIXEIRALivraria de Campos Junior - LisboaLIVRARIA DO ADVOGADOLivraria do PradoLivraria duas CidadesLivraria Exposição do Livrolivraria figueirinhas - portoLivraria Freitas BastosLivraria GarnierLivraria ImpérioLivraria JacinthoLivraria José OlympioLivraria MartinsLivraria Para Todos - Rio De JaneiroLivraria S. Cohen - Rio De JaneiroLivraria Sá da CostaLivraria São JoséLivro do GloboLIVRO PRONTOLivros do BrasilLIVROS E LIVROSLIVROS TÉCNICOS E CIENTÍFICOS S. A.LOFT PUBLICATIONSLONGMANLOROSAELoyolaLTCLTrLucien BodinLugan & GeneliouxLumenLutéciaLZNM.A.SM.I.CMacmillanMadrasMagalhãesMAHA LAKSHMIMakron BooksMalheiros EditoresMANDACARUMandarimManoleMarcel DekkerMarcial Pons - MadridMarco ZeroMartin ClaretMARTINSMartins FontesMassao OhnoMASTER BOOKMatrixMattos Moreira & CiaMauadMax LimonadMCAFEEMcGraw-HillMECMEC - Instituto Joaquim NabucoMEDCELMediaçãoMEDSIMelhoramentosMensajeroMercado AbertoMercuryoMestre JouMetaMetalivrosmetodoMetrobooksMGMILLENNIUMMinisterio da Educação e CulturaMinisterio da GuerraMISSÃO PREBITERIANA NO BRASILMIT PressMITCHELL BEAZLEYMK EditoraMMMNÊMIO TÚLIOModernaMondialeMonteiro Lobato & CiaMoraesMorgan KaufmannMundo CristãoMundo MaiorMUSAMuseu de Arte Moderna - MAMMUSICÁLIANANKINNathanNational Textbook CompanyNÁUTICASNavegarNdcNegócioNELLESNelpaNew HarbingerNEWMARKET PRESSNobelNordicaNORTON & COMPANYNova AlexandriaNova CulturalNova EraNova FronteiraNova Livraria Nacional - LisboaNOVO PARADIGMANovo SéculoNTC Business BooksNUCLEONUEVA VISIÓNO CLARIMO Cruzeiro S.AO Estado de São PauloObeliscoObjetivaOCEAN PRESSOESPOlho D´ÁguaOpera GraphicaOpera MundiOptimumOrbis VerlagORDEM DO GRAAL NA TERRAOrganização Sionista Unificada do BrasilOrganizações Simões RioORIGINALOxford University PressP.S.I. & AssociatespaisagemPalacio do LivroPalas AthenaPallasPalomaPAN AMERICANAPancastPANCROMPANDA BOOKSPANNARTZPanoramapapel virtualPapelivrosPapirusPARISParklandParmaPARRAGONPatrocinensePaulinasPauluspavilionPayotPaz e TerraPBQPearsonPenguin BooksPensamentoPergamon PressPERIPLUSPerseus BooksPerspectivaPES - PUBLICAÇÕES EVANGÉLICAS SELECIONADASPetitPhaidon PressPhilarmonia BrasileiraPhorte EditoraPicador USAPICCADILLYPimenta de MeloPINAKOTHEKEPioneiraPiratiningaPLANDPlanetaPlaza & JanesPlenumPlexusPLUMEPLURIGRAFPOCKET BOOKSPODIUMPOLÍGONOPongettiPortland HousePORTUGÁLIAPremier MáximaPrentice HallPresençaPresses Universitaires de FrancePrestígioPRINCÍPIOPRO NETProgressoPropósito EternoPtrPublicações do Instituto Genealógico BrasileiroPublicações Dom QuixotePublifolhaPUC/RIOPufPutnamPWPPws PublishingQUADRANTEQualitymarkQUEQuintessense BooksQUÍRONR. OldenbourgRabelloRaboniRacional Gráfica EditorarádugaragnarokRANDOM HOUSEReader`S DigestRecomeçoRecordReichmann & AffonsoReis EditorialRelume-DumaráRenascença Portuguesa - PortorenascerRENESRENIGRenovarrevanRevinterrevista do globoRevista dos TribunaisRichmmod PublishingRichsRicordiRideelRIORiosROBE EDITORIALRobert LaffontROBSON BOOKSRocaRoccoROCHARODOVIARoget\\'sROLENGRAFRosa dos TemposROTHSCHILD LOUREIRO & CIA.RoutledgeRowenaRowohltRoyal SocietyRYLAND PETERS & SMALLS.T.E.M. MucchiS/NSA DE COSTASá EditoraSabiáSagasageSagraSaint PaulSalamandraSalesianaSalvatSAMAMBAIASan RaimundoSantos & Vieira EditoresSantos EditoraSão JosésapienzaSaraivaSarvierSaundersSBPASCHIMER / MOSELSchmidtScholasticSCI-FI BOOKSScience PressScientific América BooksScipionescortecciSCRIBNERScrittaSecretaria da CulturaSêferSEICHO-NO-IESementeSenacSENADO FEDERALSeomansepalSETTE LETRASSextanteSHALOMSHAMBHALASicilianoSIEMENSSIGLO VENTUNOSignetSOBRASEXSociedade Bíblica do BrasilSOCIEDADE IMPRESSORA PAULISTASolSolarisSolerSoluções Criativas em ComunicaçãoSOMASotheby Parke BernetSOURCEBOOKSSpalaSpringerSpringer-VerlagST. MARTIN\\'S PAPERBACKSStamperia RealeStanford UniversityStockSTSStudio NobelStudio VistaSulinaSumaSumaréSummusSyngressT. A. QUEIROZTab BooksTAIKATallandierTAORMINATaschentaylor & FrancisTCHÊ! EDITORA DE BOMBACHATD - Tempo BrasileiroTecnapisTÉCNICA DRAGÃOTelepressTEMAS E DEBATESTerramartextonovoThames & HudsonTHE BHAKTIVEDANTA BOOK TRUSTTHE ECONOMISTTHE GUILFORD PRESSThe Industrial SocietyThe Mathematical of AmericaTHOMAS NELSON BRASILThomsonThorsons Publishing GroupTigerTip. LeuzingerTodolivroTOPBOOKSTRACOtresTRIOMTUTORTyp. da Emp. Litter. e TypographicaTyp. da Parceria Antonio Maria PereiraTyp. do FriasTypographia RollandianaUCGUFCUFMGUFSCUlisseiaUMESPUnBUNESCOUnespUnicampUnicórnio AzulUNIONE TORINESEUnisinosUnited PressUniversalUNIVERSE / VENDOMEUNIVERSIDADE DE BRASÍLIAUniversity Of IllinoisUniverso dos LivrosVALLECHIVecchiVerboVERBO JURÍDICOVergara & RibaVerlagsVerusVia LetteraVidaVida & ConsciênciaVIDA CRISTÃVIDA NOVAVIENAVIKINGVILLARDVitória régiaVIVALUZVizeuVozesW.Edith ProduçõesW.W. Norton & CompanyW11Warner BooksWcbWEISER BOOKSWeiszflog IrmãosWHITE STARWileywnWordsworthWorld ScientificWUNDERLICHWVAWVCXOZaharZelio ValverdeZNT\\nAno:\\nISBN:\\nColeção:\\nAssunto: Selecione um AssuntoAdministraçãoAgriculturaAntropologiaao livro tecnicoApostilasArqueologiaArquiteturaArtesAstronomiaAuto-AjudaAviaçãoBiblioteconomiaBiografiaBotânicaCiênciasComunicaçãoContabilidadeCrítica LiteráriaCulináriaDicionáriosDireitoDireito AdministrativoDireito AmbientalDireito CivilDireito ComercialDireito Constitucional e Teoria do EstadoDireito do Trabalho e PrevidenciárioDireito InternacionalDireito PenalDireito Processual CivilDireito Processual PenalDireito Tributário e FinanceiroEcologia & BiologiaEconomiaEnciclopédiaEnsino de Línguas EstrangeirasEntomologiaEsoterismoEspiritismoEsportes & LazerFilosofiaFilosofia do DireitoFísicaFotografiaGeografiaHistóriaHistória de São PauloHistória do BrasilHumorismoInformáticaJudaísmoLingüísticaLiteratura BrasileiraLiteratura EstrangeiraLiteratura InfantilLivros TécnicosMarketingMatemáticaMedicina & SaúdeMedicina AlternativaMitologiaModa & BelezaMúsicaParadidáticosPartiturasPecuáriaPedagogiaPoder JudiciárioPoesiaPolíticaPortuguêsPsicologiaQuímicaReligiãoSexologiaSociologiaTeatro & CinemaTurismoXadrezZoologia\\nIdioma: Selecione um IdiomaAlemãoÁrabeBúlgaroCantonêsChinêsCoreanoDinamarquêsEslovenoEspanholFinlandêsFrancêsGregoHebraicoHindúHolandêsHúngaroIndígenas do BrasilInglêsIslandêsItalianoJaponêsLatinLituanoMandarinNorueguêsPolonêsPortuguêsRomenoRussoSuecoTailandês\\nPreço:\\n0 10000\\nNão possui conta?\\nCadastre-se\\nAlerta\\n×\\nFechar\\nLogin\\nCadastre-se\\nLivros\\nDVDs\\nCDs\\nLPs\\nGibis\\nRevistas\\nNovidades\\nContato\\nCadastre-se\\nLivroDVDCDLPGibiRevista\\nSeu carrinho\\nFinalize suas compras e receba seus produtos em casa ou solicite a retirada na loja.\\nVoz do Que Clama no Deserto - Volume 1\\npor R$ 20,00\\nremover produto\\nAdicionar mais produtos\\nCaso você não queira solicitar a entrega via correios, solicite a retirada na loja:\\nDesejo retirar na loja\\nEntrega via Correios\\nConsulte preços e prazos de entrega\\nDigite seu cep\\nConsultar\\n* Consulte e escolha a melhor modalidade de frete para sua região nas próximas etapas.\\nAplicar cupom de desconto\\nAplicar\\nTotal com desconto\\nR$ 20,00\\nVocê está economizando: R$ 0,00\\nFinalizar Compra\\nO preço e a disponibilidade dos produtos no Sebo do Messias estão sujeitos a alterações. O carrinho de compras é um local temporário para armazenar uma lista de seus produtos e reflete o preço mais atualizado de cada um deles.\\n* Consulte as opções e escolha a melhor modalidade de frete nas próximas etapas de fechamento da compra.\\nAproveite e leve também\\n50% off\\nLivro\\nAdministração\\nOs Quatro Caminhos Para o Sucesso Empresarial\\nde R$ 20,00 por R$ 10,00\\nAutor: John B. Miner\\nAno: 1998\\nConservação: Bom Estado\\nVer detalhesAdicionar ao Carrinho\\n50% off\\nLivro\\nZoologia\\nRecherches sur les Ossemens Fossiles - Volume 1\\nde R$ 1.500,00 por R$ 750,00\\nAutor: Georges Cuvier\\nAno: 1836\\nConservação: Bom Estado\\nFrete Grátis\\nVer detalhesAdicionar ao Carrinho\\n50% off\\nLivro\\nEconomia\\nFinancial Management - Theory and Practice - Com CD\\nde R$ 70,00 por R$ 35,00\\nAutor: Eugene F. Brigham & Michael C. Ehrhardt\\nAno: 2002\\nConservação: Bom Estado\\nVer detalhesAdicionar ao Carrinho\\n50% off\\nLivro\\nBiografia\\nRosário de Minas - Com Dedicatória do Autor\\nde R$ 40,00 por R$ 20,00\\nAutor: Octavio Mello Alvarenga\\nAno: 2003\\nConservação: Bom Estado\\nVer detalhesAdicionar ao Carrinho\\n50% off\\nLivro\\nEconomia\\nDigesto Económico - Nº. 109 Ano X\\nde R$ 20,00 por R$ 10,00\\nAutor: Vários Autores\\nAno: 1953\\nConservação: Bom Estado\\nVer detalhesAdicionar ao Carrinho\\n50% off\\nLivro\\nPedagogia\\nMagistério de 1º Grau\\nde R$ 20,00 por R$ 10,00\\nAutor: Guiomar Namo de Mello\\nAno: 1983\\nConservação: Bom Estado\\nVer detalhesAdicionar ao Carrinho\\n50% off\\nLivro\\nGeografia\\nAustrália - A Última Fronteira - A Grande Aventura de Cousteau - Nº.1\\nde R$ 20,00 por R$ 10,00\\nAutor: Desconhecido\\nAno: 1997\\nConservação: Ótimo Estado\\nVer detalhesAdicionar ao Carrinho\\n50% off\\nLivro\\nDicionários\\nChambers Concise 20th Century Dictionary\\nde R$ 25,00 por R$ 12,50\\nAutor: Desconhecido\\nAno: 1986\\nConservação: Bom Estado\\nVer detalhesAdicionar ao Carrinho\\n50% off\\nLivro\\nMedicina & Saúde\\nDie Freeze and Be Back\\nde R$ 20,00 por R$ 10,00\\nAutor: Diaulas Vidigal\\nAno: 1997\\nConservação: Bom Estado\\nVer detalhesAdicionar ao Carrinho\\n\\'); //$(\\'#carouselDemo .carousel-inner\\').append(\\'\\n\\'); //$(\\'#carouselDemo .carousel-inner\\').append(\\'\\n\\'); $(\\'#ctl00_cphMain_txtCEP\\').keypress(function(event){ if (event.keyCode === 10 || event.keyCode === 13) { event.preventDefault(); $(\\'#ctl00_cphMain_btnConsultarCep2\\')[0].click(); } }); $(\\'#ctl00_cphMain_inputTxtCupom\\').keypress(function(event){ if (event.keyCode === 10 || event.keyCode === 13) { event.preventDefault(); $(\\'#ctl00_cphMain_btnCalcularCupom2\\')[0].click(); } }); $(\\'#carouselDemo .item\\').each(function () { var next = $(this).next(); if (!next.length) { next = $(this).siblings(\\':first\\'); } next.children(\\':first-child\\').clone().attr(\"aria-hidden\", \"true\").appendTo($(this)); if (next.next().length > 0) { next.next().children(\\':first-child\\').clone().attr(\"aria-hidden\", \"true\").appendTo($(this)); } else { $(this).siblings(\\':first\\').children(\\':first-child\\').clone().appendTo($(this)); } }); }); function checkRetirarLoja() { var nome = $(\\'#ctl00_cphMain_inputName\\').val(); var msg = \"\"; if (nome == \"\" || nome.split(\" \").length == 0 ) { msg += \"- Por favor, informe o seu nome completo - \\\\n\\\\n\"; } else if (!/\\\\w+ \\\\w+/.test(nome)) { msg += \"- Por favor, informe o seu nome completo - \\\\n\\\\n\"; } var car = $(\\'#ctl00_cphMain_hfCarrinhoEmpty\\').val(); if (car==\"true\") { msg += \"- Carrinho Vazio - \\\\n\\\\n\"; } if (msg != \"\") { alert(msg); } else { $(\"#ctl00_cphMain_btnReserva\")[0].click(); } } function checkFinalizarLoja() { var msg = \"\"; var cep = $(\\'#ctl00_cphMain_txtCEP\\').val(); var car = $(\\'#ctl00_cphMain_hfCarrinhoEmpty\\').val(); var clienteLogado = ctl00_cphMain_hfClienteLogado; if (car==\"true\") { msg += \"- Carrinho Vazio - \\\\n\\\\n\"; } //if (cep == \"\") { // msg += \"- CEP é necessario para finalizar um pedido - \\\\n\\\\n\"; //} //if (!/\\\\d{5}-\\\\d{3}/.test(cep)) { // msg += \"- CEP Formato Esperado [00000-000] - \\\\n\\\\n\"; // if (clienteLogado.value ==\"True\" ){ // msg += \"- precisa estar logado para continuar - \\\\n\\\\n\"; // } //} if (msg != \"\") { alert(msg); } //else if (clienteLogado.value ==\"True\") { // $(\\'#modallogin\\').modal() //} else { $(\"#ctl00_cphMain_btnFinalizar\")[0].click(); } }\\nInício\\nLivros\\nDVDs\\nCDs\\nLPs\\nGibis\\nRevistas\\nNovidades\\nContato\\nMINHA CONTA\\nMinha conta\\nAlterar senha\\nAlterar Email\\nMeu carrinho\\nAcompanhe seu pedido\\nMeus interesses\\nCadastro\\nLogin\\nINFORMAÇÕES\\nContato\\nQuem somos\\nDúvidas (FAQ)\\nFormas de pagamento\\nEntrega\\nMapa do site\\nLOCALIZAÇÃO\\nSão Paulo, SP\\nPraça João Mendes, 140\\nCep: 01501-000\\nSaiba como chegar\\nLocalização\\n×\\nPraça Dr. João Mendes, 140 - Sé, São Paulo - SP, 01501-000\\nHORÁRIOS DE ATENDIMENTO\\nDas 10h às 18h, de segunda à sexta-feira\\nSábado das 09h às 17h (exceto feriados)*\\n(11) 3104-7111\\nFORMAS DE PAGAMENTO\\nSOCIAL\\nSOCIAL\\nSebo do Messias - Todos os direitos reservados.\\nCNPJ: 43.710.516/0001-32\\n')]"
      ]
     },
     "execution_count": 8,
     "metadata": {},
     "output_type": "execute_result"
    }
   ],
   "source": [
    "rdd.take(1)"
   ]
  },
  {
   "cell_type": "code",
   "execution_count": 10,
   "metadata": {},
   "outputs": [],
   "source": [
    "import math\n",
    "\n",
    "N = rdd.count()\n",
    "\n",
    "def conta_palavras_em_doc(item):\n",
    "    url, text = item\n",
    "    words = text.strip().split()\n",
    "    return [(word.lower(), 1) for word in set(words)] # set() -> contagem de documentos que a palavra aparece\n",
    "\n",
    "def conta_palavras_total(item):\n",
    "    url, text = item\n",
    "    words = text.strip().split()\n",
    "    return [(word.lower(), 1) for word in words]\n",
    "\n",
    "def filtra_doc_freq(item):\n",
    "    palavra, contagem = item\n",
    "    return (contagem < DOC_COUNT_MAX) and (contagem >= DOC_COUNT_MIN)\n",
    "\n",
    "def computa_idf(item):\n",
    "    palavra, contagem = item\n",
    "    idf = math.log10(N / contagem)\n",
    "    return(palavra, idf)"
   ]
  },
  {
   "cell_type": "code",
   "execution_count": null,
   "metadata": {},
   "outputs": [],
   "source": []
  }
 ],
 "metadata": {
  "kernelspec": {
   "display_name": "Python 3",
   "language": "python",
   "name": "python3"
  },
  "language_info": {
   "codemirror_mode": {
    "name": "ipython",
    "version": 3
   },
   "file_extension": ".py",
   "mimetype": "text/x-python",
   "name": "python",
   "nbconvert_exporter": "python",
   "pygments_lexer": "ipython3",
   "version": "3.8.6"
  }
 },
 "nbformat": 4,
 "nbformat_minor": 4
}
