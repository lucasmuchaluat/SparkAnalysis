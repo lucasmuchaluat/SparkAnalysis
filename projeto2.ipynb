{
 "cells": [
  {
   "cell_type": "code",
   "execution_count": 1,
   "metadata": {},
   "outputs": [],
   "source": [
    "import pyspark"
   ]
  },
  {
   "cell_type": "code",
   "execution_count": 2,
   "metadata": {},
   "outputs": [],
   "source": [
    "sc = pyspark.SparkContext(appName=\"teste\")"
   ]
  },
  {
   "cell_type": "code",
   "execution_count": 3,
   "metadata": {},
   "outputs": [
    {
     "data": {
      "text/html": [
       "\n",
       "        <div>\n",
       "            <p><b>SparkContext</b></p>\n",
       "\n",
       "            <p><a href=\"http://192.168.0.191:4040\">Spark UI</a></p>\n",
       "\n",
       "            <dl>\n",
       "              <dt>Version</dt>\n",
       "                <dd><code>v3.0.1</code></dd>\n",
       "              <dt>Master</dt>\n",
       "                <dd><code>local[*]</code></dd>\n",
       "              <dt>AppName</dt>\n",
       "                <dd><code>teste</code></dd>\n",
       "            </dl>\n",
       "        </div>\n",
       "        "
      ],
      "text/plain": [
       "<SparkContext master=local[*] appName=teste>"
      ]
     },
     "execution_count": 3,
     "metadata": {},
     "output_type": "execute_result"
    }
   ],
   "source": [
    "sc"
   ]
  },
  {
   "cell_type": "code",
   "execution_count": 4,
   "metadata": {},
   "outputs": [
    {
     "data": {
      "text/plain": [
       "1000"
      ]
     },
     "execution_count": 4,
     "metadata": {},
     "output_type": "execute_result"
    }
   ],
   "source": [
    "sc.parallelize(range(1000)).count()"
   ]
  },
  {
   "cell_type": "code",
   "execution_count": 5,
   "metadata": {},
   "outputs": [],
   "source": [
    "rdd = sc.sequenceFile(\"web_brasil_small/part-00000\") #rdd = sc.textFile(\"web_brasil_small/part-00000\")"
   ]
  },
  {
   "cell_type": "code",
   "execution_count": 6,
   "metadata": {},
   "outputs": [
    {
     "data": {
      "text/plain": [
       "36133"
      ]
     },
     "execution_count": 6,
     "metadata": {},
     "output_type": "execute_result"
    }
   ],
   "source": [
    "rdd.count()"
   ]
  },
  {
   "cell_type": "code",
   "execution_count": 7,
   "metadata": {},
   "outputs": [
    {
     "data": {
      "text/plain": [
       "1162"
      ]
     },
     "execution_count": 7,
     "metadata": {},
     "output_type": "execute_result"
    }
   ],
   "source": [
    "rdd.filter(lambda x: \"fiscal\" in x[1]).count()"
   ]
  },
  {
   "cell_type": "code",
   "execution_count": 8,
   "metadata": {
    "scrolled": true
   },
   "outputs": [
    {
     "data": {
      "text/plain": [
       "[('https://sebodomessias.com.br/suas_compras.aspx?retirar=0&action=1&idItem=2023136',\n",
       "  'Sebo do Messias - Suas Compras\\nLivroDVDCDLPGibiRevista\\n|\\nBusca avancada\\nBem-vindo ao\\nSebo do Messias.\\nFaça o seu LOGIN\\nMinha conta\\nAlterar senha\\nAlterar Email\\nMeu Carrinho\\nHistórico de Pedidos\\nMeus Interesses\\nSair\\n1\\nNão possui conta?\\nCadastre-se\\nOlá, seja bem-vindo!\\n×\\nPara prosseguir, por favor identifique-se utilizando os campos abaixo e depois clique no botão “ENTRAR”.\\nE-mail\\nSenha\\nEsqueci minha senha\\nEsqueceu sua senha?\\n×\\nPreencha o seu email no campo abaixo e clique no botão \"ENVIAR\".\\nE-mail\\nFaça seu login\\nConfirmado!\\n×\\nEnviamos uma mensagem em seu e-mail para alteração de senha.\\n(se não encontra-lo, verifique sua caixa de spam).\\nFaça seu login\\nNão possui conta?\\nCadastre-se\\nBusca Avançada\\n×\\nIndique as opções relevantes a sua busca.\\nBusca por: LivroDVDCDLPGibiRevista\\nÁlbum:\\nArtista / Banda:\\nAno:\\nGravadora: Selecione uma Gravadora32 Blues4adABKCOABRIL MUSICAburagsAbwAceAftermath RecordsAll DiscAllegro CorporationAlligatoralmo soundsAltayaAM RecordsAmazon RecordsAMERICAN RECORDSAmherst RecordsAMLAngelANTI CORPOS RECORDSAppleApricotArcadeArise RecordsArista RecordsArsenalArt BrasilArte Nova ClassicsArts MusicArtSomASVAtaque FrontalATCOAtlantic RecordsAtmosphériques MusicAtração FonograficaAudiopressAvex TraxAxe KillerAzul MusicB-UniqueBama RagsBand MusicBanister RecordsBarclayBarking PumpkinBarulho RecordsBeechwoodbeyond musicBico do CorvoBig Beat RecordsBig MachineBig Rock MusicBiscoito FinoBlack Beat RecordsBlack Market RecordsBlack SaintBlak Blue RecordsBlanco Y NegroBlock 2 PicturesBlue NoteBlue Rock ItBluntBMGBMG Music GroupBPCBrandallesBrasidiscBrazilbizz RecordsBROTHER RECORDSBrushfire RecordsBuilding RecordsBureau ExportCafé Del MarCalypso ProduçõesCamelotCameratiCandidCapitol RecordsCaroselloCasa NostraCASTLECastle Comcastle musicCaytronicsCBSCD CenterCD GrafCD SolutionCD+Celestial RecordsCentury MediaChall`OmusicChandosChanteclerChaosChapter RecordsCharisma RecordsCharlyCheap Lullaby RecordsCHINA RECORDSchrysalis recordsCIDCirque Du SoleilCity BeatClub StarCMC RECORDSCogumelo RecordsColumbiaCommanderCommander ClassicComposeConcertoConcord RecordsCONCRETE RECORDSConnoisseurContinentalCopacabanaCountdownCPC-UMESCreative CommonsCri Du Chat DisquesCritique RecordsCromwellCURB RECORDScutting recordsDacapoDance MusicDCCDead Dead Good RecordsDeadlineDeath Row RecordsDebut RecordsDecca RecordsDecca Universal MusicDeck discDeeJay Gigolo RecordsDelicious VinylDelosDelta MusicDeutsche GrammophonDiamondtraxxDiante do TronoDie Young Stay PrettyDinoDischiDiscobertasDiscos AMCDiscos Marcus PereiraDiscovery HouseDiskyDISQUES DREYFUSDominoDouble PlayDREAMWORKSDRG RecordsDryice RecordsDuchessDwell recordsDynamicEAGLE RECORDSEASTWEST RECORDSEASY STREET RECORDSECM RecordsEdel RecordsEdiciones Del PradoEdiciones GyCEl Cartel RecordseldoradoElektra RecordsEmarcy RecordsEMIEnja RecordsEpicEPITAPH RECORDSEssence RecordsEvidenceExcelente DiscosFábrica de SomFábrica DiscosFace Value recordsFantasy RecordsFAT BOY RECORDSFFRRFiction RecordsFieldzzFINN RECORDSFonovisaFORBIDDEN RECORDSFORCEMAJEURE RECORDSfullgásGABAJU RECORDSGalaGarapuíGeffen RecordsGemaGEMA RECORDSGERMAN RECORDSGiant RecordsGlobalundergroundGlobo DiskGN RecordsGol RecordsGoldenlane RecordsGOLDIES RECORDSGospel RecordsGraça MusicGroove NoteGRP RecordsGTLGun RecordsHardcore MusicHed Kandi RecordsHeinz RecordsHELLION RECORDSHidden Beach RecordsHOLLYWOOD RECORDSHope RecordsHouse of BluesHouse RecordsI RECORDSI.R.S. RecordsIMAGEM RECORDSIndie RecordsIndigo RecsInspiredInstinct RecordsInterCD RecordsInterdiscINTERSCOPE RECORDSIntradaIso RecordsITHJ. RecordsJam MusicJamDown RecordsJaspacJazz In The CityJAZZ STATION RECORDSJHOJMS MusicJourneysbyJouverJVCK-TelKamaradKaskata\\'sKbnha RecordsKebarKings XKivesKochKuarup Recordslaface recordsLaser CompanyLaser RecsLAVALeader MusicLegaryLibertyLine RecordsLiveLive StormLivraria SemeadorLogic Recordslondon recordsLuaLuanda RecordsLuarttiLumiar DiscosMadacyMaiangaMALASANA RECORDSMange DiscMangeDiscManhattan RecordsMASSACRE RECORDSMasterclassMastersomMATADOR RECORDSMaurício ProduçõesMAVERICK RECORDSMax JazzMax MusicMáximaMaxpop MusicMBBMCA RecordsMCDMCKMCPSMDCMedia FashionMelodiyaMelodyMemoMercury RecordsMesaMetal BladeMetropolisMilanMilestoneMillenniummillsMinistry RecordsMix RecordsMJJMK PUBLICITÁMODERN MUSICMODO MAIORModularMojoMONSTRO DISCOSMotown RecordsMovie PlayMpbMPSMundo MelhorMushroom RecordsMusic 2thMusic ArtsMusic BrokersMusic CollectionMusic TapeMusidiscMute RecordsMZA MUSICN-CODED MUSICNaïve RecordsNany CDsNara MusicNaradaNatasha RecordsNative LanguageNaxosNettwerk RecordsNikitaNimbus RecordsNMC MusicNoise RecordsNonesuchNorteNova EstaçãoNOVODISCNpg RecordsNUCLEAR BLASTNueve de CopasNUMBER ONE MUSICNuova Era RecordsOBJECT ENTERPRISESOdeonOID MORTALESOigalêOn-U SoundOne Down One Up - Live at the Half NoteOne IdeaOrbeat MusicOreadeOriginal MusicOsespOsmose ProductionsOTHER HISTORY RECORDSOur ChoiceOuro recordsOuver RecordsOuvir e CrerOzz RecordsPablo RecordsPachaParadiseParadoxxParlophonePartnersPaulinasPaulusPavane RecordsPDUPendagronPenguin HighBridgePetrol RecordsPhilipsPhino RecordsPhonodiscPhonomotorPhontasticPilzPioneerPlatinumPlay It Again SamPLAYARTEPMFPoint MusicPOLY MUSICPolydorPolygramPolystarPRA RECORDSPrestige RecordsPrimalPriority RecordsPrivate MusicProjectPURPLE PYRAMIDPutumayoPyramid RecordsQRQuinlan RoadR. C. ARabidRadar RecordsRadioactive RecordsRaw PowerRB MusicRCBRDS FONOGRÁFICAReact MusicReader\\'s Digest MúsicaReco-HeadRecord ResearchRed FeatherRed PhantomRepertoire RecordsReprise RecordsRepublic RecordsRestless RecordsRevivendoRevolution RecordsRex RecordsRGERhino RecordsRhombus RecordsRinaldiRiverside RecordsROADRACERRoadrunnerRob DigitalROCK BRIGADE RECORDSRock CompanyRoswell RecordsRotten RecordsRough TradeRounder RecordsRTIRuff RyderRUNAWAY RECORDSRyko FzRyko RecordsSabiáSam\\'s FamilySanctuary RecordsSandstoneSanta MúsicaSão Paulo Imagem DataSarabandasSax SambaSBK RecordsScalaScandinavian RecordsSERIOUS RECORDSSESCSeven MusicShady RecordsSharp Nine RecordsSIGLASignatureSIRE RECORDSSka SateliteskintSky Blue MusicSLAG RECORDSSMDSom livreSom TropicalSomewaxSomil RecordsSonergiaSonho MaiorSonhos e SonsSonopressSONY & BMGSony musicSoulStarSound Design Recordssoundboard recordsSparrowSpectrumSPINEFARM RECORDSSpitfireSPOTLIGHT RECORDSSST RecordsSt. ClairST2 RecordsStar RecordsSTARLITE RECORDSSternsStockholm RecorsStradivariusStrictlySubsoloSubversão RecordsSugarSum RecordsSuperfly RecordsSwindle RecordsSycoTaurusTelarcTeldecTEN CLUBThe B Side MusicThe IncThe Inc RecordsThird Mind RecordsTime Warner AudioBooksTJBTomatoTommy Boy MusicToy\\'s FactoryTramaTransferTRATORE RECORDSTrês BélleTriloka RecsTringTuff GangTurn LeftTV LineTVTUnimar MusicUnion SquareUniversal MusicV2 MUSICVanguardVarèse SarabandeVarèse VintageVELASVERTIGOVerve MusicVice RecordsVineyard MusicVirginVirgulaVirusVP RecordsWagramWalt DisneyWarner MusicWarpWEAWeb RockersWestboundWETWind-Up RecordsWindham Hill RecordsWinterWordWork MusicWorld CircuitWorld MusicWounded Bird RecordsYabasta RecordsYB MusicYewo MusicZEKAP GOSPEL MUSICzero corporationZillion RecordsZimbabweZIRIGUIBOOM GRAMMED DISCZOMBA RECORDS\\nGênero: Selecione um AssuntoInfantilBluesCantoras e Cantores InternacionaisClássicosColetâneasDance e Música EletrônicaForróGospelInfantilInstrumentalJazzMPBBossa NovaMúsica LatinaNew AgeOrquestrasPop e Rock NacionalPop InternacionalRap, R&B, Funk e SoulReggaeRock InternacionalSamba, Axé e PagodeSertanejo e CountryTrilha SonoraWorld Music\\nMúsica:\\nNacional\\nImportados\\nPreço:\\n0 10000\\nÁlbum:\\nArtista / Banda:\\nAno:\\nGravadora: Selecione uma GravadoraA. Long Book RecordAbril CulturalAM RecordsAngelAntler RecordsAppleArchivariolaArlequimATCOAtlantic RecordsATLAS RECORDSAttualAVM DiscosBARATOS AFINSBarclayBeverlyBiscoito FinoBMGBorges & DamascenoC.E.CCameoCapitolCapitol RecordsCaytronicsCBSChall`OmusicChaosChico Citychrysalis recordsColumbiaContinentalCopacabanaDecca RecordsDelphineDeutsche GrammophonDWA RECORDSElektra RecordsElencoElétricasEmber RecordsEMIEMI ODEONEpicEssence RecordsEstúdio EldoradoFenixFermataFONTANAFunarteGeffen RecordsGoldenlane RecordsGroove NoteGull RecordsHarmonia MundiHarmonyHARVEST RECORDSHispa VoxHungarotonHyperionImperialImpulseInspiredisland recordsITHJ. RecordsKarussellKitchenwareLançaLondonMCA RecordsMercury RecordsMGMMotownMovie PlayMovietoneMute RecordsNovusOdeonOdysseyOlympusPhilipsPhino RecordsPolydorPolygramPremierPrestige RecordsPrivate MusicProjectPROMEMUSRCARé-SolReprise RecordsRex RecordsRGERifiRyko FzSabiáSanctuary RecordsSinterSIRE RECORDSSomSom BrasilSom da GenteSom livreSomil RecordsStetTapecarTHGTurnaboutUniversalVERTIGOVerve RecordsVirginVox MusicalisWarner BrosWEAWINDHAM HILLWorld RecordsZE RECORDS\\nGênero: Selecione um AssuntoTangoVariadosClássicosColetâneasDance e Música EletrônicaForróGospelInfantilInstrumentalJazzMPBBossa NovaMúsica LatinaNew AgeOrquestrasPop e Rock NacionalPop InternacionalRap, R&B, Funk e SoulReggaeRock InternacionalSamba, Axé e PagodeSertanejo e CountryTrilha SonoraWorld MusicTango\\nMúsica:\\nNacional\\nImportados\\nPreço:\\n0 10000\\nTítulo:\\nAtores:\\nRegião: Selecione uma RegiãoRegião 1Região 2Região 3Região 4Todas (All)\\nGravadora: Selecione uma Gravadora2MABRIL MUSICÁgataalpha filmesAmazonasAPFAppleArgos FilmsArsenalAspenAtlantic RecordsATRAÇÃOAttaBiscoito FinoBMGBompastorBUENA VISTABuilding VideoBUTTMANcalifornia filmesCapitol RecordsCaribe VídeoCasablancaCD PromoChina VideoCine ArtCinemagiaClassic lineColumbiaContinentalCOOPERDISCCoqueiro VerdeCrazy TurkeyCulturaD+T LTDA.DaylightDeAgostiniDia FilmeDigeratiDistrivideoDoble ChapaDominoDOMO RECORDSDream WorksDuettoDVD PalaceDVD TOTALDynafilmesEAGLE VISIONEASTASIA RECORDSEcranEdições Musicais MolequeEdiouroEditechEditora TrêsEMIEpicErotikaEscalaESTÚDIO DE CINEMAESTUDIO GABIAETCEuropa FilmesEXPLÍCITAFallmsFantasy RecordsFator XFiestaFIFAFil WaysFlashstarFOCUS FILMESFoxGalvão EditoraGativideoGemaGlass MusicGlobaldiscGlobo VideoGol FilmesGol RecordsGradienteHMPHOLLYWOOD PICTURESHome VisionHotsexxxyIcaroImagem FilmesImovisionINAKUSTICIndependenteIndie RecordsInterfilmJAMJefKoallaLíder FilmesLogonLONDON FILMSLS DigitalLucas FilmesLWMablanMagnus OpusMD MovieMedia GroupMedia PromoMelMellion RecordsMercury RecordsMGMMIRAMAXMK MUSICMKT CultMonasexyMOVIE STARMovieplayMultiplikMundo MágicoMute RecordsMZA MUSICNada ConstaNativaNboNeo MaxNEW LINENFKNorfolkNova FormaOceanOrbitalParadigmaParalelo\\'sParamount PicturesParis FilmesPEIXESPlanet SexPlataPlatinaPLAYARTEPlaydiscPolar MusicprivatePROFILMESPutzmanQRRed AngelRed SunRhythm and BluesRIMORiraMaxRMRM2Rocha SoluçõesSanRIOSantosSex SitesSEXTURY VIDEOSICSilver ScreenSky BlueSom livreSonopressSony PicturesSoul Brotherspectra novaSpeech WorksSpotST2 VideoStarStar DiscosStar VisionSTUDIO GABIASum RecordsSUTRASwenTape WorldTop TapeTOUCHSTONETramaTRISTARUniversalUSA FilmesVAN BLADVersatilVerve MusicVideo FilmesVideolarVintage FilmesVirginVividVZ MultimídiaWalt DisneyWarner BrosWarner MusicWEAWin FilmesWORKS EDITORAWTFZOMBA RECORDS\\nGênero: Selecione um AssuntoAção/AventuraClássicosComédiaDocumentáriosDramaDVD`s ImportadosFicçãoGuerraInfantilMusicaisNacionaisPornôRomanceSuspenseTerrorWestern\\nIdioma: Selecione um IdiomaAlemãoÁrabeBúlgaroCantonêsChinêsCoreanoDinamarquêsEslovenoEspanholFinlandêsFrancêsGregoHebraicoHindúHolandêsHúngaroIndígenas do BrasilInglêsIslandêsItalianoJaponêsLatinLituanoMandarinNorueguêsPolonêsPortuguêsRomenoRussoSuecoTailandês\\nPreço:\\n0 10000\\nTítulo:\\nAutor:\\nAno:\\nNúmero:\\nMês: Selecione um MesJaneiroFevereiroMarçoAbrilMaioJunhoJulhoAgostoSetembroOutubroNovembroDezembro\\nEditora: Selecione uma EditoraAbrilAtitudeBertrandBest NewsBrain StoreBrasil AmericaComics Art NewsConradD-ArteDCDevirEbalEdições BLCERIFactoid BooksGloboImageJBCKing FeaturesL&PMMartins FontesMarvelMaterMauricio de SousaMeribérica/LiberMythosOpera GraphicaPaladinoPaniniPenguin BooksRecordRGERio GráficaSaberTudo Em QuadrinhosVecchiVHDWalter Herdeg The Graphis Press\\nAssunto: Selecione um AssuntoAsterixBatmanConanDark Horse ComicsDC ComicsDiversosEpopéiaEróticoFantasmaFaroesteFlash GordonHomem AranhaImage/WildstromMangáMarvelOs Novos TitãsPrincipe valenteSadmanSpawnSpiritSuper HomemTerrorTexTurma da MônicaVertigoWalt Disney X-MenX-Men ExtraX-Men PremiumXuxá/Pequeno SheriffZagor\\nIdioma: Selecione um IdiomaAlemãoÁrabeBúlgaroCantonêsChinêsCoreanoDinamarquêsEslovenoEspanholFinlandêsFrancêsGregoHebraicoHindúHolandêsHúngaroIndígenas do BrasilInglêsIslandêsItalianoJaponêsLatinLituanoMandarinNorueguêsPolonêsPortuguêsRomenoRussoSuecoTailandês\\nPreço:\\n0 10000\\nTítulo:\\nAno:\\nNúmero:\\nMês: Selecione um MesJaneiroFevereiroMarçoAbrilMaioJunhoJulhoAgostoSetembroOutubroNovembroDezembro\\nEditora: Selecione uma Editora[s.n.]A Gazeta EsportivaAbrilAbril JovemBloch EditoresGloboNational GeographicO Cruzeiro S.A\\nAssunto: Selecione um AssuntoA Gazeta EsportivaArquiteturaAuto EsporteAutomobilísticaCaros Amigos DiversosEm GuardaEróticoGLSMancheteMotociclismoNational GeographicO CruzeiroO Tico TicoPlacarPlayboyRádio, Tv & CinemaRealidadeRevistas de EstudoSeleçõesSuper InteressanteXadrez\\nIdioma: Selecione um IdiomaAlemãoÁrabeBúlgaroCantonêsChinêsCoreanoDinamarquêsEslovenoEspanholFinlandêsFrancêsGregoHebraicoHindúHolandêsHúngaroIndígenas do BrasilInglêsIslandêsItalianoJaponêsLatinLituanoMandarinNorueguêsPolonêsPortuguêsRomenoRussoSuecoTailandês\\nPreço:\\n0 10000\\nTítulo:\\nAutor:\\nEditora: Selecione uma Editora? - São Paulo[s.n.]34A GirafaA MetzA Signet BookA. Lacroix Et CiaA.A.BalkemaAASPAbbeville PressAberjeAbramsAbrilAbril JovemABZAC - Atelier CulturalAcademia Brasileira de LetrasAcademia de InteligênciaAcademic PressAcadêmicaAddison WesleyAduaneirasAFHAAfrontamentoAGEAgirÁgoraAgropecuáriaAguilarAHAAideAIHA PressAillaud & BertrandAlaricoAlbin MichelAlegroALEPHAlfa - OmegaAlfa-OmegaAlfaguaraAliançaAliança de FraternidadeAlianza EditorialAlíneaAll BooksAllyn and BaconAltanaAlvoradaAM EdiçõesAmacomÂmbito CulturalAn Aspen PublicationAnchietaAnchor BooksAngraAnhambiAntídotoAntonio Tersol EditorAntroposóficaAnúbisAo Livro TécnicoAPA - PublicationsAppleAppletree PressAquarianaAramburu PamplonaArgosAriel - Rio De JaneiroARTArte & CiênciaArtech HouseArtenovaartes e ofíciosArtes MédicasArthaudARTLYSArtmedARXAsaasppectusAssahiAssírio & AlvimAssociação Beneficiente TobiasAssoulineAteliê EditorialAtenienseAtheneuÁticaAtlasAtosAtualaugustusAuroraAvanteAvatarAve-MariaAvelino Tavares CardosoAxcel BooksB. L. GarnierBack Bay BooksBallantine BooksBanco CidadeBantam BooksBarracudaBarse & Co.Batista RegularBBDBEIBelsberkeleyBerkleyBerlendis & VertecchiaBerlitzBertrandBest BolsoBest SellerBESTBOOKBIBLIEXBiblioteca do ExércitoBirkhäuserBlackwellBlochBloomsburyBlumeBM&FBoa LeituraBOA NOVABoitempobompastorBONACCI - ROMABookmanBooksellerBosch - BarcelonaBrandBRASIL DEBATESBRASÍLIABRASÍLIA/RIOBrasilianaBrasilienseBRASPORTBriguetBrooks & ColeBurns&OatesButterworth-HeinemannCABRALCalmann-LévyCambridgeCaminhoCampusCANÇÃO NOVACARAMELOCarasCasa AmarelaCasa da MedalhaCasa da QualidadeCasa do Estudante do BrasilCASA DO PSICÓLOGOCasa dos EspíritosCasa Editorial SchimidtCASA MARIACasa Publicadora BrasileiraCasa VanordenCassellCátedraCathoCCGLCEIMECCelebrisCELESTIAL ARTSCeltaCENTURYCERESCerfChainChancellor PressChapman & HallChardronCharpentierChartwell BooksCHEDChene - FrançaCHURCHILL LIVINGSTONECiência ModernaCientíficaCirculo do LivroCitadel PressCivilização BrasileiraClaridadeCLARKSON POTTERCLUBE DO LIVROCmp BookscmsCODECRICódexCoimbra EditoraCollinsCollins London And GlasgowColumbia University PressCompanhia das LetrasCompanhia das LetrinhasCompanhia de FreudCompanhia Editora NacionalCompanhia Editora PanôramaCompanhia Editorial PaulistaCompañia Bibliografica Española ,S.A.ComunicaçãoConanCONCÓRDIAconexConquistaConradContextoContrapontoCopolaCoriolisCorreio FraternoCortezCosac & NaifyCPCCrc PressCRÍTICACrownCtbaCultrixCulturacultura acadêmicaCultural PaulistaCupoloCyberAge BooksD&ZDa Capo PressDALLOZDanaeDBADE DIREITODEBOLSILLODel ReyDel SerbalDeltaDepartamento de Imprensa NacionalDesclée de Brower et Cie.DesnivelDeux Coqs D\\'orDezembro EditorialDial PressDIALÉTICADifelDifusãoDIGERATI BOOKSDillmontDimepDinalivroDINÂMICA EDUCACIONAL LTDA.Discursodix editorialDkDo AutorDominusDott. A. GiuffréDoubledayDover Booksdover PublicationsDPJDPLDryden PressDU CHÊNEDupratE-PapersE. RokaE.P.UEbalEBARTEchenique Irmãos & Cia - EditoresECOARTEEDELBRAEDELSAEDESPLANEdgard BlucherEDIÇÃO PASTORALEdições 70Edições AfroditeEdições AlumbramentoEdições AvanteEdições BlochEdições CosmosEdições Cultura Brasileiraedições de ouroEdições InvençãoEdições LeiaEDIÇÕES MMEDICONEdimaxEdiouroEdipanEDIPROEdipromoEDITIONS ESPACES 34Editora 34Editora AEditôra das Américaseditora dos clássicosEditora EspiritualistaEditora IndexEditora UnificadoEditorial AmadioEditorial FuturaEditorial Iberia S.A.Editorial Inquerito LimitadaEditorial JuventudEditorial PaulistaEditorial Renacimientoeditorial verboEdizioni Dell\\'ateneoEduardo da Costa Santos & Livraria Civilização - PEDUCEDUCATOREducsEduscEduspEel Pie PublishingekoELECTAElevaçãoElle di ciEllis HorwoodELOElsevierELVETICAElvino Pocai - São PauloEmecéEmpresa das ArtesEmpresa Literária FluminenseEMWENIGMÍSTICA MODERNAENSAIOEpistemologia e SociedadeEPUBEPUCÉricaErnesto Chardron - PortoESCALAESCORPIÃOEscriptorio da Sociedade Editora - LisboaEscutaESPAÇO E TEMPOEspasa-CalpeEstação LiberdadeEstampaETERNAEuropa-AméricaEverestEVERGREENExcelentísimo Ayuntamiento de Villanueva de la SerExcellusExpressão e Culturaexpressão popularF. Briguiet & CiaF. W. Bridges & SonsFAAPFactoid BooksFACULDADE DA CIDADEfapespFARRAR STRAUS & GIROFasquelleFawcett ColumbineFayardFederação Espírita BrasileiraFEESPFénixFeral HouseFernando Machado & Cia.FERNIFFLCH/USPFGVFiocruzflamboyantFlammarionFolha de S.PauloFondo de Cultura EconómicaFONTE VIVAForenseForense UniversitáriaFormatoFORUMFrancisFrancisco AlvesFrancisco Arthur da SilvaFrase editoraFreal HouseFREE PRESSFreedom of Mind PressFrenteFt - Pitman PublishingFtdFunarteFundaçao Bienal de São PauloFundação Calouste GulbenkianFundação PeirópolisFUNDAÇÃO UBALDINO DO AMARALFundamentoFundapFundo de CulturaFUNPECFuturaGaiaGalaxiaGallach - BarcelonaGallimardGarnierGarzantiGêneseGenteGeração EditorialGermapeGetúlio CostaGG - Gustavo GiliGirassolGIZGlobalGloboGLSGNOSEGOTHAM BOOKSGoverno do Estado de SPGpcGraalGRAÇAGrafitGramophone PublicationsGreat BritainGreenwich HouseGRIJALBOGroundGRÜNDGryphusGuanabaraGuanabara Kooganguarda chuvaHachetteHAGNOSHammond IncorporatedHAMPTON ROADSHandanHANNACROIX CREEKHarbraHARLEQUIN BOOKSharper & rowHarper Collins PublishersHarper PerennialHARPER TORCHHarperSanFranciscoHarry N. AbramsHBS PRESSHedraHEINEMANN ELTHeinemann Medical BooksHemusHerderhermesHODDER & STOUGHTONHOLT RINEHART AND WINSTONHORIZONTEhorizontesHOUGHTON MIFFLINHucitecHuman KineticsHYPERIONÍbisIBPEXIbrasaÍconeIDE - INSTITUTO DE DIFUSÃO ESPÌRITAIdea Group PublishingIFACIluminurasIMAGES PUBLISHINGImagoImeche SeminarImperial College PressImprensa Litterario-ComercialImprensa Nacional - Rio De JaneiroImprensa Nacional de LisboaImprensa OficialImprensa Oficial - BahiaImprensa RégiaImpresImprinta Gráfica e EditoraINÉDITAInfinitoInstInst. PiagetINSTITUTO DE DIFUSÃO ESPÍRITAInstituto do Açúcar e do ÁlcoolInstituto Nacional do LivroInstituto NefruINSTITUTO PROGRESSO EDITORIALInterciênciaINTERLINK BOOKSInternational Labour OficceINTRÍNSECAIPANEMAIrinaIRISIANAItatiaiaItauJ. M. C. Seabra & T. Q. AntunesJ. P. AillaudJ. S.J.OzonJaboticabaJacintho Ribeiro dos SantosJALOVIJason Aronson IncJavoliJBIGJelmar PublishingJobim MusicJODY DUNCANJOHN MURRAYJohn WileyJONOFONJorge ZaharJosé AguilarJOSE ALVAROjosé bushatskyJosé OlympioJossey-BassJuarez de OliveiraJuerpJulexJulio GroosJulio RamosJurídica BrasileiraKensington BooksKLUWER ACADEMICKNICKERBOCKERKÖNEMANNKosmosL&PML\\'HuillierLA DÉCOUVERTELabortextolacerdaLachâtreLADDERLaemmert & CiaLAGOALakelandmarkLandscapeLandyLapponiLarousseLAURENCE KINGLavoisierLe RobertleallebLedLeite Ribeiro & MaurilloLeituraLello & IrmãoLEMOS & CRUZLemos EditorialLes Éditions du Cerf - ParisLes usuelsLetras à MargemLEUDLewis PublishersLexLexisLiber JurisLibrairie AcadèmiqueLibrairie CH. DelagraveLibrairie GrundLibrairie Hachette et CieLidadorLÍDERLILIVROSLiraLISMALittle Brown & CompanyLivramentoLIVRARIA ACADÊMICALIVRARIA ALMEDINALivraria BofoniLIVRARIA CLÁSSICA EDITORA DE A. M. TEIXEIRALivraria de Campos Junior - LisboaLIVRARIA DO ADVOGADOLivraria do PradoLivraria duas CidadesLivraria Exposição do Livrolivraria figueirinhas - portoLivraria Freitas BastosLivraria GarnierLivraria ImpérioLivraria JacinthoLivraria José OlympioLivraria MartinsLivraria Para Todos - Rio De JaneiroLivraria S. Cohen - Rio De JaneiroLivraria Sá da CostaLivraria São JoséLivro do GloboLIVRO PRONTOLivros do BrasilLIVROS E LIVROSLIVROS TÉCNICOS E CIENTÍFICOS S. A.LOFT PUBLICATIONSLONGMANLOROSAELoyolaLTCLTrLucien BodinLugan & GeneliouxLumenLutéciaLZNM.A.SM.I.CMacmillanMadrasMagalhãesMAHA LAKSHMIMakron BooksMalheiros EditoresMANDACARUMandarimManoleMarcel DekkerMarcial Pons - MadridMarco ZeroMartin ClaretMARTINSMartins FontesMassao OhnoMASTER BOOKMatrixMattos Moreira & CiaMauadMax LimonadMCAFEEMcGraw-HillMECMEC - Instituto Joaquim NabucoMEDCELMediaçãoMEDSIMelhoramentosMensajeroMercado AbertoMercuryoMestre JouMetaMetalivrosmetodoMetrobooksMGMILLENNIUMMinisterio da Educação e CulturaMinisterio da GuerraMISSÃO PREBITERIANA NO BRASILMIT PressMITCHELL BEAZLEYMK EditoraMMMNÊMIO TÚLIOModernaMondialeMonteiro Lobato & CiaMoraesMorgan KaufmannMundo CristãoMundo MaiorMUSAMuseu de Arte Moderna - MAMMUSICÁLIANANKINNathanNational Textbook CompanyNÁUTICASNavegarNdcNegócioNELLESNelpaNew HarbingerNEWMARKET PRESSNobelNordicaNORTON & COMPANYNova AlexandriaNova CulturalNova EraNova FronteiraNova Livraria Nacional - LisboaNOVO PARADIGMANovo SéculoNTC Business BooksNUCLEONUEVA VISIÓNO CLARIMO Cruzeiro S.AO Estado de São PauloObeliscoObjetivaOCEAN PRESSOESPOlho D´ÁguaOpera GraphicaOpera MundiOptimumOrbis VerlagORDEM DO GRAAL NA TERRAOrganização Sionista Unificada do BrasilOrganizações Simões RioORIGINALOxford University PressP.S.I. & AssociatespaisagemPalacio do LivroPalas AthenaPallasPalomaPAN AMERICANAPancastPANCROMPANDA BOOKSPANNARTZPanoramapapel virtualPapelivrosPapirusPARISParklandParmaPARRAGONPatrocinensePaulinasPauluspavilionPayotPaz e TerraPBQPearsonPenguin BooksPensamentoPergamon PressPERIPLUSPerseus BooksPerspectivaPES - PUBLICAÇÕES EVANGÉLICAS SELECIONADASPetitPhaidon PressPhilarmonia BrasileiraPhorte EditoraPicador USAPICCADILLYPimenta de MeloPINAKOTHEKEPioneiraPiratiningaPLANDPlanetaPlaza & JanesPlenumPlexusPLUMEPLURIGRAFPOCKET BOOKSPODIUMPOLÍGONOPongettiPortland HousePORTUGÁLIAPremier MáximaPrentice HallPresençaPresses Universitaires de FrancePrestígioPRINCÍPIOPRO NETProgressoPropósito EternoPtrPublicações do Instituto Genealógico BrasileiroPublicações Dom QuixotePublifolhaPUC/RIOPufPutnamPWPPws PublishingQUADRANTEQualitymarkQUEQuintessense BooksQUÍRONR. OldenbourgRabelloRaboniRacional Gráfica EditorarádugaragnarokRANDOM HOUSEReader`S DigestRecomeçoRecordReichmann & AffonsoReis EditorialRelume-DumaráRenascença Portuguesa - PortorenascerRENESRENIGRenovarrevanRevinterrevista do globoRevista dos TribunaisRichmmod PublishingRichsRicordiRideelRIORiosROBE EDITORIALRobert LaffontROBSON BOOKSRocaRoccoROCHARODOVIARoget\\'sROLENGRAFRosa dos TemposROTHSCHILD LOUREIRO & CIA.RoutledgeRowenaRowohltRoyal SocietyRYLAND PETERS & SMALLS.T.E.M. MucchiS/NSA DE COSTASá EditoraSabiáSagasageSagraSaint PaulSalamandraSalesianaSalvatSAMAMBAIASan RaimundoSantos & Vieira EditoresSantos EditoraSão JosésapienzaSaraivaSarvierSaundersSBPASCHIMER / MOSELSchmidtScholasticSCI-FI BOOKSScience PressScientific América BooksScipionescortecciSCRIBNERScrittaSecretaria da CulturaSêferSEICHO-NO-IESementeSenacSENADO FEDERALSeomansepalSETTE LETRASSextanteSHALOMSHAMBHALASicilianoSIEMENSSIGLO VENTUNOSignetSOBRASEXSociedade Bíblica do BrasilSOCIEDADE IMPRESSORA PAULISTASolSolarisSolerSoluções Criativas em ComunicaçãoSOMASotheby Parke BernetSOURCEBOOKSSpalaSpringerSpringer-VerlagST. MARTIN\\'S PAPERBACKSStamperia RealeStanford UniversityStockSTSStudio NobelStudio VistaSulinaSumaSumaréSummusSyngressT. A. QUEIROZTab BooksTAIKATallandierTAORMINATaschentaylor & FrancisTCHÊ! EDITORA DE BOMBACHATD - Tempo BrasileiroTecnapisTÉCNICA DRAGÃOTelepressTEMAS E DEBATESTerramartextonovoThames & HudsonTHE BHAKTIVEDANTA BOOK TRUSTTHE ECONOMISTTHE GUILFORD PRESSThe Industrial SocietyThe Mathematical of AmericaTHOMAS NELSON BRASILThomsonThorsons Publishing GroupTigerTip. LeuzingerTodolivroTOPBOOKSTRACOtresTRIOMTUTORTyp. da Emp. Litter. e TypographicaTyp. da Parceria Antonio Maria PereiraTyp. do FriasTypographia RollandianaUCGUFCUFMGUFSCUlisseiaUMESPUnBUNESCOUnespUnicampUnicórnio AzulUNIONE TORINESEUnisinosUnited PressUniversalUNIVERSE / VENDOMEUNIVERSIDADE DE BRASÍLIAUniversity Of IllinoisUniverso dos LivrosVALLECHIVecchiVerboVERBO JURÍDICOVergara & RibaVerlagsVerusVia LetteraVidaVida & ConsciênciaVIDA CRISTÃVIDA NOVAVIENAVIKINGVILLARDVitória régiaVIVALUZVizeuVozesW.Edith ProduçõesW.W. Norton & CompanyW11Warner BooksWcbWEISER BOOKSWeiszflog IrmãosWHITE STARWileywnWordsworthWorld ScientificWUNDERLICHWVAWVCXOZaharZelio ValverdeZNT\\nAno:\\nISBN:\\nColeção:\\nAssunto: Selecione um AssuntoAdministraçãoAgriculturaAntropologiaao livro tecnicoApostilasArqueologiaArquiteturaArtesAstronomiaAuto-AjudaAviaçãoBiblioteconomiaBiografiaBotânicaCiênciasComunicaçãoContabilidadeCrítica LiteráriaCulináriaDicionáriosDireitoDireito AdministrativoDireito AmbientalDireito CivilDireito ComercialDireito Constitucional e Teoria do EstadoDireito do Trabalho e PrevidenciárioDireito InternacionalDireito PenalDireito Processual CivilDireito Processual PenalDireito Tributário e FinanceiroEcologia & BiologiaEconomiaEnciclopédiaEnsino de Línguas EstrangeirasEntomologiaEsoterismoEspiritismoEsportes & LazerFilosofiaFilosofia do DireitoFísicaFotografiaGeografiaHistóriaHistória de São PauloHistória do BrasilHumorismoInformáticaJudaísmoLingüísticaLiteratura BrasileiraLiteratura EstrangeiraLiteratura InfantilLivros TécnicosMarketingMatemáticaMedicina & SaúdeMedicina AlternativaMitologiaModa & BelezaMúsicaParadidáticosPartiturasPecuáriaPedagogiaPoder JudiciárioPoesiaPolíticaPortuguêsPsicologiaQuímicaReligiãoSexologiaSociologiaTeatro & CinemaTurismoXadrezZoologia\\nIdioma: Selecione um IdiomaAlemãoÁrabeBúlgaroCantonêsChinêsCoreanoDinamarquêsEslovenoEspanholFinlandêsFrancêsGregoHebraicoHindúHolandêsHúngaroIndígenas do BrasilInglêsIslandêsItalianoJaponêsLatinLituanoMandarinNorueguêsPolonêsPortuguêsRomenoRussoSuecoTailandês\\nPreço:\\n0 10000\\nNão possui conta?\\nCadastre-se\\nAlerta\\n×\\nFechar\\nLogin\\nCadastre-se\\nLivros\\nDVDs\\nCDs\\nLPs\\nGibis\\nRevistas\\nNovidades\\nContato\\nCadastre-se\\nLivroDVDCDLPGibiRevista\\nSeu carrinho\\nFinalize suas compras e receba seus produtos em casa ou solicite a retirada na loja.\\nVoz do Que Clama no Deserto - Volume 1\\npor R$ 20,00\\nremover produto\\nAdicionar mais produtos\\nCaso você não queira solicitar a entrega via correios, solicite a retirada na loja:\\nDesejo retirar na loja\\nEntrega via Correios\\nConsulte preços e prazos de entrega\\nDigite seu cep\\nConsultar\\n* Consulte e escolha a melhor modalidade de frete para sua região nas próximas etapas.\\nAplicar cupom de desconto\\nAplicar\\nTotal com desconto\\nR$ 20,00\\nVocê está economizando: R$ 0,00\\nFinalizar Compra\\nO preço e a disponibilidade dos produtos no Sebo do Messias estão sujeitos a alterações. O carrinho de compras é um local temporário para armazenar uma lista de seus produtos e reflete o preço mais atualizado de cada um deles.\\n* Consulte as opções e escolha a melhor modalidade de frete nas próximas etapas de fechamento da compra.\\nAproveite e leve também\\n50% off\\nLivro\\nAdministração\\nOs Quatro Caminhos Para o Sucesso Empresarial\\nde R$ 20,00 por R$ 10,00\\nAutor: John B. Miner\\nAno: 1998\\nConservação: Bom Estado\\nVer detalhesAdicionar ao Carrinho\\n50% off\\nLivro\\nZoologia\\nRecherches sur les Ossemens Fossiles - Volume 1\\nde R$ 1.500,00 por R$ 750,00\\nAutor: Georges Cuvier\\nAno: 1836\\nConservação: Bom Estado\\nFrete Grátis\\nVer detalhesAdicionar ao Carrinho\\n50% off\\nLivro\\nEconomia\\nFinancial Management - Theory and Practice - Com CD\\nde R$ 70,00 por R$ 35,00\\nAutor: Eugene F. Brigham & Michael C. Ehrhardt\\nAno: 2002\\nConservação: Bom Estado\\nVer detalhesAdicionar ao Carrinho\\n50% off\\nLivro\\nBiografia\\nRosário de Minas - Com Dedicatória do Autor\\nde R$ 40,00 por R$ 20,00\\nAutor: Octavio Mello Alvarenga\\nAno: 2003\\nConservação: Bom Estado\\nVer detalhesAdicionar ao Carrinho\\n50% off\\nLivro\\nEconomia\\nDigesto Económico - Nº. 109 Ano X\\nde R$ 20,00 por R$ 10,00\\nAutor: Vários Autores\\nAno: 1953\\nConservação: Bom Estado\\nVer detalhesAdicionar ao Carrinho\\n50% off\\nLivro\\nPedagogia\\nMagistério de 1º Grau\\nde R$ 20,00 por R$ 10,00\\nAutor: Guiomar Namo de Mello\\nAno: 1983\\nConservação: Bom Estado\\nVer detalhesAdicionar ao Carrinho\\n50% off\\nLivro\\nGeografia\\nAustrália - A Última Fronteira - A Grande Aventura de Cousteau - Nº.1\\nde R$ 20,00 por R$ 10,00\\nAutor: Desconhecido\\nAno: 1997\\nConservação: Ótimo Estado\\nVer detalhesAdicionar ao Carrinho\\n50% off\\nLivro\\nDicionários\\nChambers Concise 20th Century Dictionary\\nde R$ 25,00 por R$ 12,50\\nAutor: Desconhecido\\nAno: 1986\\nConservação: Bom Estado\\nVer detalhesAdicionar ao Carrinho\\n50% off\\nLivro\\nMedicina & Saúde\\nDie Freeze and Be Back\\nde R$ 20,00 por R$ 10,00\\nAutor: Diaulas Vidigal\\nAno: 1997\\nConservação: Bom Estado\\nVer detalhesAdicionar ao Carrinho\\n\\'); //$(\\'#carouselDemo .carousel-inner\\').append(\\'\\n\\'); //$(\\'#carouselDemo .carousel-inner\\').append(\\'\\n\\'); $(\\'#ctl00_cphMain_txtCEP\\').keypress(function(event){ if (event.keyCode === 10 || event.keyCode === 13) { event.preventDefault(); $(\\'#ctl00_cphMain_btnConsultarCep2\\')[0].click(); } }); $(\\'#ctl00_cphMain_inputTxtCupom\\').keypress(function(event){ if (event.keyCode === 10 || event.keyCode === 13) { event.preventDefault(); $(\\'#ctl00_cphMain_btnCalcularCupom2\\')[0].click(); } }); $(\\'#carouselDemo .item\\').each(function () { var next = $(this).next(); if (!next.length) { next = $(this).siblings(\\':first\\'); } next.children(\\':first-child\\').clone().attr(\"aria-hidden\", \"true\").appendTo($(this)); if (next.next().length > 0) { next.next().children(\\':first-child\\').clone().attr(\"aria-hidden\", \"true\").appendTo($(this)); } else { $(this).siblings(\\':first\\').children(\\':first-child\\').clone().appendTo($(this)); } }); }); function checkRetirarLoja() { var nome = $(\\'#ctl00_cphMain_inputName\\').val(); var msg = \"\"; if (nome == \"\" || nome.split(\" \").length == 0 ) { msg += \"- Por favor, informe o seu nome completo - \\\\n\\\\n\"; } else if (!/\\\\w+ \\\\w+/.test(nome)) { msg += \"- Por favor, informe o seu nome completo - \\\\n\\\\n\"; } var car = $(\\'#ctl00_cphMain_hfCarrinhoEmpty\\').val(); if (car==\"true\") { msg += \"- Carrinho Vazio - \\\\n\\\\n\"; } if (msg != \"\") { alert(msg); } else { $(\"#ctl00_cphMain_btnReserva\")[0].click(); } } function checkFinalizarLoja() { var msg = \"\"; var cep = $(\\'#ctl00_cphMain_txtCEP\\').val(); var car = $(\\'#ctl00_cphMain_hfCarrinhoEmpty\\').val(); var clienteLogado = ctl00_cphMain_hfClienteLogado; if (car==\"true\") { msg += \"- Carrinho Vazio - \\\\n\\\\n\"; } //if (cep == \"\") { // msg += \"- CEP é necessario para finalizar um pedido - \\\\n\\\\n\"; //} //if (!/\\\\d{5}-\\\\d{3}/.test(cep)) { // msg += \"- CEP Formato Esperado [00000-000] - \\\\n\\\\n\"; // if (clienteLogado.value ==\"True\" ){ // msg += \"- precisa estar logado para continuar - \\\\n\\\\n\"; // } //} if (msg != \"\") { alert(msg); } //else if (clienteLogado.value ==\"True\") { // $(\\'#modallogin\\').modal() //} else { $(\"#ctl00_cphMain_btnFinalizar\")[0].click(); } }\\nInício\\nLivros\\nDVDs\\nCDs\\nLPs\\nGibis\\nRevistas\\nNovidades\\nContato\\nMINHA CONTA\\nMinha conta\\nAlterar senha\\nAlterar Email\\nMeu carrinho\\nAcompanhe seu pedido\\nMeus interesses\\nCadastro\\nLogin\\nINFORMAÇÕES\\nContato\\nQuem somos\\nDúvidas (FAQ)\\nFormas de pagamento\\nEntrega\\nMapa do site\\nLOCALIZAÇÃO\\nSão Paulo, SP\\nPraça João Mendes, 140\\nCep: 01501-000\\nSaiba como chegar\\nLocalização\\n×\\nPraça Dr. João Mendes, 140 - Sé, São Paulo - SP, 01501-000\\nHORÁRIOS DE ATENDIMENTO\\nDas 10h às 18h, de segunda à sexta-feira\\nSábado das 09h às 17h (exceto feriados)*\\n(11) 3104-7111\\nFORMAS DE PAGAMENTO\\nSOCIAL\\nSOCIAL\\nSebo do Messias - Todos os direitos reservados.\\nCNPJ: 43.710.516/0001-32\\n')]"
      ]
     },
     "execution_count": 8,
     "metadata": {},
     "output_type": "execute_result"
    }
   ],
   "source": [
    "rdd.take(1)"
   ]
  },
  {
   "cell_type": "code",
   "execution_count": 9,
   "metadata": {},
   "outputs": [],
   "source": [
    "import math\n",
    "\n",
    "\n",
    "def conta_palavras_em_doc(item):\n",
    "    url, text = item\n",
    "    words = text.strip().split()\n",
    "    return [(word.lower(), 1) for word in set(words)] # set() -> contagem de documentos que a palavra aparece\n",
    "\n",
    "def junta_contagens(nova_contagem, contagem_atual):\n",
    "    return nova_contagem + contagem_atual\n",
    "\n",
    "def computa_relevancia(item):\n",
    "    palavra, valor = item\n",
    "    freq, idf = valor\n",
    "    relevancia = freq*idf\n",
    "    return (palavra, relevancia)\n",
    "    \n",
    "def conta_palavras_total(item):\n",
    "    url, text = item\n",
    "    words = text.strip().split()\n",
    "    return [(word.lower(), 1) for word in words]\n",
    "\n",
    "def filtra_doc_freq(item):\n",
    "    palavra, contagem = item\n",
    "    return (contagem < DOC_COUNT_MAX) and (contagem >= DOC_COUNT_MIN)\n",
    "\n",
    "def sort_100(item):\n",
    "    palavra, relevancia = item\n",
    "    return \n",
    "\n",
    "def computa_idf(item):\n",
    "    palavra, contagem = item\n",
    "    idf = math.log10(N / contagem)\n",
    "    return(palavra, idf)\n",
    "\n",
    "def computa_freq(item):\n",
    "    palavra, contagem = item\n",
    "    freq = math.log10(1+contagem)\n",
    "    return(palavra, freq)\n",
    "\n",
    "def encontra_palavra(item, palavra):\n",
    "    url, text = item\n",
    "    words = text.strip().split()\n",
    "    words_list = [word.lower() for word in words]\n",
    "    if palavra in words_list:\n",
    "        return [item]\n",
    "    return []\n",
    "\n",
    "def encontra_palavra1(item):\n",
    "    return encontra_palavra(item, palavra1)\n",
    "\n",
    "def encontra_palavra2(item):\n",
    "    return encontra_palavra(item, palavra2)"
   ]
  },
  {
   "cell_type": "code",
   "execution_count": 10,
   "metadata": {},
   "outputs": [
    {
     "data": {
      "text/plain": [
       "'https://sebodomessias.com.br/suas_compras.aspx?retirar=0&action=1&idItem=2023136'"
      ]
     },
     "execution_count": 10,
     "metadata": {},
     "output_type": "execute_result"
    }
   ],
   "source": [
    "url, text = rdd.take(1)[0]\n",
    "url"
   ]
  },
  {
   "cell_type": "code",
   "execution_count": 11,
   "metadata": {},
   "outputs": [],
   "source": [
    "rdd_word_freq = rdd.flatMap(conta_palavras_total).reduceByKey(junta_contagens)"
   ]
  },
  {
   "cell_type": "code",
   "execution_count": 12,
   "metadata": {},
   "outputs": [
    {
     "data": {
      "text/plain": [
       "[('login', 11306),\n",
       " ('senha', 8876),\n",
       " ('no', 208400),\n",
       " ('e-mail', 24013),\n",
       " ('esqueci', 1585),\n",
       " ('\"enviar\".', 5),\n",
       " ('confirmado!', 12),\n",
       " ('spam).', 8),\n",
       " ('musicatração', 4),\n",
       " ('musicb-uniquebama', 4)]"
      ]
     },
     "execution_count": 12,
     "metadata": {},
     "output_type": "execute_result"
    }
   ],
   "source": [
    "rdd_word_freq.take(10)"
   ]
  },
  {
   "cell_type": "markdown",
   "metadata": {},
   "source": [
    "# Início do estudo"
   ]
  },
  {
   "cell_type": "code",
   "execution_count": 28,
   "metadata": {},
   "outputs": [],
   "source": [
    "N = rdd.count()\n",
    "\n",
    "DOC_COUNT_MIN = 10\n",
    "DOC_COUNT_MAX = N * 0.7\n",
    "\n",
    "palavra1 = 'boulos'\n",
    "palavra2 = 'covas'"
   ]
  },
  {
   "cell_type": "code",
   "execution_count": 29,
   "metadata": {},
   "outputs": [],
   "source": [
    "rdd_palavra1 = rdd.flatMap(encontra_palavra1)\n",
    "rdd_palavra2 = rdd.flatMap(encontra_palavra2)"
   ]
  },
  {
   "cell_type": "code",
   "execution_count": 30,
   "metadata": {},
   "outputs": [
    {
     "data": {
      "text/plain": [
       "79"
      ]
     },
     "execution_count": 30,
     "metadata": {},
     "output_type": "execute_result"
    }
   ],
   "source": [
    "rdd_palavra1.count()"
   ]
  },
  {
   "cell_type": "code",
   "execution_count": 31,
   "metadata": {},
   "outputs": [
    {
     "data": {
      "text/plain": [
       "125"
      ]
     },
     "execution_count": 31,
     "metadata": {},
     "output_type": "execute_result"
    }
   ],
   "source": [
    "rdd_palavra2.count()"
   ]
  },
  {
   "cell_type": "code",
   "execution_count": 32,
   "metadata": {},
   "outputs": [
    {
     "data": {
      "text/plain": [
       "15"
      ]
     },
     "execution_count": 32,
     "metadata": {},
     "output_type": "execute_result"
    }
   ],
   "source": [
    "rdd_palavra_intersection = rdd_palavra1.intersection(rdd_palavra2)\n",
    "rdd_palavra_intersection.count()"
   ]
  },
  {
   "cell_type": "markdown",
   "metadata": {},
   "source": [
    "# IDF"
   ]
  },
  {
   "cell_type": "code",
   "execution_count": 33,
   "metadata": {},
   "outputs": [],
   "source": [
    "rdd_doc_count_intersection = rdd_palavra_intersection.flatMap(conta_palavras_em_doc).reduceByKey(junta_contagens).filter(filtra_doc_freq)\n",
    "\n",
    "rdd_idf = rdd_doc_count_intersection.map(computa_idf)"
   ]
  },
  {
   "cell_type": "code",
   "execution_count": 34,
   "metadata": {},
   "outputs": [
    {
     "data": {
      "text/plain": [
       "[('tem', 3.4117759853793284),\n",
       " ('das', 3.4117759853793284),\n",
       " ('no', 3.1599640123855286),\n",
       " ('eleições', 3.3274550996792924),\n",
       " ('últimas', 3.4117759853793284),\n",
       " ('foi', 3.516511335899341),\n",
       " ('direitos', 3.516511335899341),\n",
       " ('federal', 3.3274550996792924),\n",
       " ('ser', 3.557904021057566),\n",
       " ('tempo', 3.4439606687507296)]"
      ]
     },
     "execution_count": 34,
     "metadata": {},
     "output_type": "execute_result"
    }
   ],
   "source": [
    "rdd_idf.take(10)"
   ]
  },
  {
   "cell_type": "markdown",
   "metadata": {},
   "source": [
    "# COMPUTA FREQ"
   ]
  },
  {
   "cell_type": "code",
   "execution_count": 35,
   "metadata": {},
   "outputs": [],
   "source": [
    "rdd_words_count = rdd_palavra_intersection.flatMap(conta_palavras_total).reduceByKey(junta_contagens)\n",
    "\n",
    "rdd_words_freq = rdd_words_count.map(computa_freq)"
   ]
  },
  {
   "cell_type": "code",
   "execution_count": 36,
   "metadata": {},
   "outputs": [
    {
     "data": {
      "text/plain": [
       "[('pra', 0.8450980400142568),\n",
       " ('culturais', 0.47712125471966244),\n",
       " ('eleições', 1.6532125137753437),\n",
       " ('r$', 1.6232492903979006),\n",
       " ('cargos', 0.6020599913279624),\n",
       " ('celso', 1.1139433523068367),\n",
       " ('tatto-pt,', 0.3010299956639812),\n",
       " ('helou', 0.3010299956639812),\n",
       " ('vereadores', 0.6020599913279624),\n",
       " ('mesmo', 1.3222192947339193)]"
      ]
     },
     "execution_count": 36,
     "metadata": {},
     "output_type": "execute_result"
    }
   ],
   "source": [
    "rdd_words_freq.take(10)"
   ]
  },
  {
   "cell_type": "markdown",
   "metadata": {},
   "source": [
    "# TABELA 1"
   ]
  },
  {
   "cell_type": "code",
   "execution_count": 37,
   "metadata": {},
   "outputs": [],
   "source": [
    "rdd_join = rdd_words_freq.join(rdd_idf)"
   ]
  },
  {
   "cell_type": "code",
   "execution_count": 38,
   "metadata": {},
   "outputs": [],
   "source": [
    "rdd_relevancia = rdd_join.map(computa_relevancia)"
   ]
  },
  {
   "cell_type": "code",
   "execution_count": 39,
   "metadata": {},
   "outputs": [
    {
     "data": {
      "text/plain": [
       "[('eleições', 5.50099040981539),\n",
       " ('tem', 5.672957239632598),\n",
       " ('foi', 6.252889028917671),\n",
       " ('federal', 5.624051565948827),\n",
       " ('direito', 4.4806961339316835),\n",
       " ('após', 4.623250913590592),\n",
       " ('nacional', 5.6608551631019575),\n",
       " ('ibope', 4.628939853089387),\n",
       " ('tudo', 4.801372280866914),\n",
       " ('cultura', 5.092654892097355)]"
      ]
     },
     "execution_count": 39,
     "metadata": {},
     "output_type": "execute_result"
    }
   ],
   "source": [
    "rdd_relevancia.take(10)"
   ]
  },
  {
   "cell_type": "code",
   "execution_count": 40,
   "metadata": {},
   "outputs": [
    {
     "name": "stdout",
     "output_type": "stream",
     "text": [
      "[('de', 10.610612200301492), ('do', 9.800717471366696), ('da', 9.159126706059979), ('que', 8.99533534582011), ('e', 8.955544782858333), ('o', 8.692833980987029), ('a', 8.637625746364574), ('dos', 8.011809207342987), ('em', 7.944481383334526), ('para', 7.710707314239869), ('são', 7.4578979186704615), ('um', 7.391517758317852), ('uma', 7.288942917901919), ('no', 7.2780166549169785), ('com', 7.163931823164749), ('paulo', 7.0795601711331395), ('os', 6.977411718022709), ('é', 6.948667452837545), ('se', 6.930374801996896), ('das', 6.9238028378247805), ('as', 6.851823693307829), ('na', 6.849452868760334), ('não', 6.8292053209579135), ('por', 6.796136892456971), ('mais', 6.609447313098069), ('-', 6.516299393221553), ('silva', 6.509970968948924), ('brasil', 6.499532429446032), ('como', 6.421909755270102), ('ao', 6.419840034252641), ('rio', 6.375130369637926), ('à', 6.3747904900398895), ('às', 6.326491483788505), ('foi', 6.252889028917671), ('tv', 6.235233791996123), ('2020', 6.210667557956697), ('governo', 6.180190487050296), ('mas', 6.174553834392936), ('rádio', 6.123882969411199), ('ou', 6.041750366981343), ('sobre', 5.944815595048909), ('caso', 5.9159327753848325), ('dias', 5.820968822094861), ('diz', 5.813540545341642), ('política', 5.78254564591636), ('trabalho', 5.7441103408796055), ('anos', 5.726472573968587), ('nos', 5.708174530674779), ('banco', 5.699975685121206), ('justiça', 5.693598874528807), ('tem', 5.672957239632598), ('você', 5.671372714510409), ('nacional', 5.6608551631019575), ('notícias', 5.6599863787715465), ('pelo', 5.64039075322731), ('federal', 5.624051565948827), ('ser', 5.6207184108037325), ('também', 5.517431599112637), ('eleições', 5.50099040981539), ('sua', 5.440712571885862), ('bolsonaro', 5.440712571885862), ('já', 5.417866924165533), ('está', 5.402726852723503), ('apenas', 5.385462972469937), ('sem', 5.380682593211729), ('saúde', 5.356388772341637), ('todos', 5.342532328239967), ('nas', 5.342532328239967), ('mundo', 5.339871483301762), ('pela', 5.327590588162454), ('presidente', 5.282489026823284), ('sp', 5.18367732590477), ('candidatos', 5.179192437277464), ('prefeito', 5.136191016446703), ('quem', 5.099487786049081), ('cultura', 5.092654892097355), ('ministro', 5.08819201253841), ('entre', 5.043506008969492), ('twitter', 5.036441186823817), ('público', 5.03433936443466), ('economia', 4.995347510235192), ('hoje', 4.983955341409339), ('tempo', 4.983955341409339), ('agora', 4.973736378051492), ('seu', 4.915871887402444), ('foram', 4.910659126794579), ('tudo', 4.801372280866914), ('segundo', 4.769458150588228), ('eleitoral', 4.7043293454537105), ('facebook', 4.7043293454537105), ('direitos', 4.64959913847666), ('ibope', 4.628939853089387), ('após', 4.623250913590592), ('boulos', 4.605108574217506), ('últimas', 4.580045464657742), ('ciência', 4.575086728097461), ('blogs', 4.553671246526947), ('aqui', 4.549682578771912), ('nesta', 4.549682578771912), ('covas', 4.5398221540053205)]\n"
     ]
    }
   ],
   "source": [
    "list_relevance = list(rdd_relevancia.collect())\n",
    "list_relevance = sorted(list_relevance, key=lambda x: -x[1])[:100]\n",
    "list_relevance"
   ]
  },
  {
   "cell_type": "markdown",
   "metadata": {},
   "source": [
    "# TABELA 2a"
   ]
  },
  {
   "cell_type": "code",
   "execution_count": 41,
   "metadata": {
    "scrolled": true
   },
   "outputs": [
    {
     "data": {
      "text/plain": [
       "[('de', 9.904342937566444),\n",
       " ('que', 9.54466457793127),\n",
       " ('e', 9.453183634823029),\n",
       " ('do', 9.255957383310891),\n",
       " ('responder', 9.240051543040362),\n",
       " ('da', 8.88391530929072),\n",
       " ('a', 8.864479493710792),\n",
       " ('o', 8.822388524695747),\n",
       " ('-', 8.720054354070509),\n",
       " ('josé', 8.517710994474966),\n",
       " ('é', 8.46695486205857),\n",
       " ('não', 8.414843619699552),\n",
       " ('um', 8.367676081238338),\n",
       " ('carlos', 8.365634912564511),\n",
       " ('se', 8.226392586764593),\n",
       " ('para', 8.200731551810788),\n",
       " ('uma', 8.165011047502126),\n",
       " ('em', 8.149475280989224),\n",
       " ('dos', 8.128136720378901),\n",
       " ('luiz', 8.117785343280943),\n",
       " ('com', 7.992181920514964),\n",
       " ('por', 7.962381009462169),\n",
       " ('há', 7.915630744962943),\n",
       " ('eu', 7.90306651627523),\n",
       " ('maria', 7.881491019858184),\n",
       " ('ser', 7.870272872121708),\n",
       " ('joão', 7.850794533048117),\n",
       " ('no', 7.7836695890351),\n",
       " ('horas', 7.775740365883516),\n",
       " ('mas', 7.724558457860731),\n",
       " ('como', 7.722539407550116),\n",
       " ('isso', 7.625056813570492),\n",
       " ('costa', 7.6125575333114375),\n",
       " ('ou', 7.5969311419751655),\n",
       " ('na', 7.555991928544169),\n",
       " ('os', 7.547080750823873),\n",
       " ('2016', 7.534375282728839),\n",
       " ('mar', 7.50834475797896),\n",
       " ('as', 7.47273686646647),\n",
       " ('você', 7.466777178938618),\n",
       " ('bahia', 7.464155657574377),\n",
       " ('me', 7.449710358485582),\n",
       " ('pedro', 7.448413003667826),\n",
       " ('paulo', 7.4444928354742235),\n",
       " ('estado', 7.398048245582833),\n",
       " ('das', 7.396374135982563),\n",
       " ('santos', 7.37442473328924),\n",
       " ('sua', 7.350584018671806),\n",
       " ('sociedade', 7.348145043017869),\n",
       " ('ele', 7.340145071525963),\n",
       " ('roberto', 7.338129400226487),\n",
       " ('augusto', 7.325050087739415),\n",
       " ('mais', 7.322749548618784),\n",
       " ('às', 7.311677546940939),\n",
       " ('propriedade', 7.311464421115789),\n",
       " ('marcelo', 7.291604438527947),\n",
       " ('sérgio', 7.288942917901919),\n",
       " ('fernando', 7.287156852549293),\n",
       " ('pode', 7.274108788646663),\n",
       " ('está', 7.271595619925644),\n",
       " ('folha', 7.265682118538851),\n",
       " ('fábio', 7.259689921604419),\n",
       " ('silva', 7.254030765419939),\n",
       " ('tem', 7.211390309188474),\n",
       " ('lima', 7.2043899256199815),\n",
       " ('muito', 7.20353105477546),\n",
       " ('são', 7.20170383926559),\n",
       " ('estadão', 7.20039925422662),\n",
       " ('ao', 7.197031264435402),\n",
       " ('essa', 7.194838705243499),\n",
       " ('ana', 7.189328370596501),\n",
       " ('freitas', 7.131183075272889),\n",
       " ('jorge', 7.1244794157025275),\n",
       " ('sem', 7.114419081086369),\n",
       " ('à', 7.110742694568178),\n",
       " ('nem', 7.0897094730519274),\n",
       " ('eduardo', 7.08916434012237),\n",
       " ('mesmo', 7.088272105758969),\n",
       " ('pm', 7.078462082016365),\n",
       " ('foi', 7.078054066287529),\n",
       " ('antonio', 7.077595272692446),\n",
       " ('blog', 7.068200234112777),\n",
       " ('eles', 7.06522413112753),\n",
       " ('anos', 7.0614276874422774),\n",
       " ('luís', 7.048218831692004),\n",
       " ('esse', 7.047281457213238),\n",
       " ('almeida', 7.031157247280974),\n",
       " ('pois', 7.0142993646690694),\n",
       " ('ter', 7.007099928501978),\n",
       " ('quando', 7.006867229111296),\n",
       " ('daniel', 6.988888681567611),\n",
       " ('–', 6.98089912393882),\n",
       " ('seus', 6.9785478037276345),\n",
       " ('sobre', 6.972758345112097),\n",
       " ('rodrigo', 6.970500094483071),\n",
       " ('|', 6.961396639837754),\n",
       " ('capitalismo', 6.957445550019883),\n",
       " ('alves', 6.956067076473274),\n",
       " ('pessoas', 6.949477975827739),\n",
       " ('só', 6.937824893223029)]"
      ]
     },
     "execution_count": 41,
     "metadata": {},
     "output_type": "execute_result"
    }
   ],
   "source": [
    "rdd_doc_count_palavra1 = rdd_palavra1.flatMap(conta_palavras_em_doc).reduceByKey(junta_contagens).filter(filtra_doc_freq)\n",
    "rdd_idf_palavra1 = rdd_doc_count_palavra1.map(computa_idf)\n",
    "\n",
    "rdd_words_count_palavra1 = rdd_palavra1.flatMap(conta_palavras_total).reduceByKey(junta_contagens)\n",
    "rdd_words_freq_palavra1 = rdd_words_count_palavra1.map(computa_freq)\n",
    "\n",
    "rdd_join_palavra1 = rdd_words_freq_palavra1.join(rdd_idf_palavra1)\n",
    "rdd_relevancia_palavra1 = rdd_join_palavra1.map(computa_relevancia)\n",
    "\n",
    "list_relevance_palavra1 = list(rdd_relevancia_palavra1.collect())\n",
    "list_relevance_palavra1 = sorted(list_relevance_palavra1, key=lambda x: -x[1])[:100]\n",
    "list_relevance_palavra1"
   ]
  },
  {
   "cell_type": "markdown",
   "metadata": {},
   "source": [
    "# TABELA 2b"
   ]
  },
  {
   "cell_type": "code",
   "execution_count": 42,
   "metadata": {
    "scrolled": true
   },
   "outputs": [
    {
     "data": {
      "text/plain": [
       "[('arquivo', 11.04119207813177),\n",
       " ('de', 10.209203019902617),\n",
       " ('histórico', 9.640264129292504),\n",
       " ('do', 9.591189455783677),\n",
       " ('2010', 9.445314525710998),\n",
       " ('parque', 9.422656525880031),\n",
       " ('jardim', 9.275399349291558),\n",
       " ('responder', 9.265689011026405),\n",
       " ('documentação', 9.189012678164481),\n",
       " ('instituto', 9.151030329867657),\n",
       " ('da', 9.13294199599167),\n",
       " ('e', 9.126022965228016),\n",
       " ('municipal', 8.978912532166243),\n",
       " ('centro', 8.955966880448162),\n",
       " ('memória', 8.869540473920267),\n",
       " ('que', 8.794239615778235),\n",
       " ('novembro', 8.710537642763951),\n",
       " ('público', 8.634430921327267),\n",
       " ('museu', 8.58789101720313),\n",
       " ('circunscrição', 8.46036597693076),\n",
       " ('rio', 8.436949048560622),\n",
       " ('fundação', 8.410755376446868),\n",
       " ('auditoria', 8.354742985773289),\n",
       " ('regional', 8.331428980559933),\n",
       " ('i', 8.331374419775244),\n",
       " ('sul', 8.321177231484564),\n",
       " ('federal', 8.314692471532636),\n",
       " ('morre', 8.311309469401246),\n",
       " ('às', 8.273513615254544),\n",
       " ('a', 8.272783249787269),\n",
       " ('vila', 8.240562043862072),\n",
       " ('o', 8.191410161740354),\n",
       " ('é', 8.157111853009981),\n",
       " ('estadão', 8.142293468419208),\n",
       " ('-', 8.107592125413584),\n",
       " ('universidade', 8.072126519111624),\n",
       " ('alto', 8.050892221225512),\n",
       " ('santa', 8.04602493048305),\n",
       " ('(brasil)', 8.034277076815782),\n",
       " ('tags', 8.018847776164433),\n",
       " ('em', 8.013939793149571),\n",
       " ('grande', 7.986143040614164),\n",
       " ('folha', 7.953008533847076),\n",
       " ('tribunal', 7.93677258461604),\n",
       " ('campus', 7.859267760330916),\n",
       " ('conjunto', 7.8431717200100275),\n",
       " ('judiciária', 7.824860551972052),\n",
       " ('para', 7.810311478542743),\n",
       " ('estado', 7.79839073055871),\n",
       " ('militar', 7.7936560676867),\n",
       " ('dos', 7.763198633109155),\n",
       " ('com', 7.742770759463134),\n",
       " ('tecnologia', 7.68958897707135),\n",
       " ('–', 7.650177368577938),\n",
       " ('não', 7.647014767624002),\n",
       " ('senhora', 7.624640975009921),\n",
       " ('nacional', 7.58054875937752),\n",
       " ('município', 7.562843738747403),\n",
       " ('ícone', 7.557753372984166),\n",
       " ('um', 7.5575716233459165),\n",
       " ('13', 7.55572383264494),\n",
       " ('na', 7.531702079295344),\n",
       " ('são', 7.518154681033123),\n",
       " ('justiça', 7.511251508140559),\n",
       " ('porto', 7.509965823415041),\n",
       " ('se', 7.4883169007738655),\n",
       " ('memorial', 7.480633388876084),\n",
       " ('no', 7.44849712076754),\n",
       " ('joão', 7.444658658667388),\n",
       " ('das', 7.436219824520686),\n",
       " ('maria', 7.435170038963377),\n",
       " ('santo', 7.404357229898821),\n",
       " ('uma', 7.351465839092082),\n",
       " ('por', 7.348972459139933),\n",
       " ('lula', 7.340546586124205),\n",
       " ('brasil', 7.318073063922905),\n",
       " ('espírito', 7.317042335293468),\n",
       " ('trabalho', 7.295686863128329),\n",
       " ('região', 7.2897349076592155),\n",
       " ('pedro', 7.289034220913506),\n",
       " ('roberto', 7.278876978201411),\n",
       " ('mais', 7.2753937989424555),\n",
       " ('1', 7.269563592609712),\n",
       " ('industrial', 7.26825662351633),\n",
       " ('janeiro', 7.265876265963173),\n",
       " ('alegre', 7.264285040786601),\n",
       " ('josé', 7.2590046587796495),\n",
       " ('ciência', 7.25401379930879),\n",
       " ('1ª', 7.242997513932063),\n",
       " ('paulo', 7.238995678453245),\n",
       " ('carlos', 7.233042436841964),\n",
       " ('associação', 7.225035675789718),\n",
       " ('2011', 7.221675610709326),\n",
       " ('praia', 7.215230772053408),\n",
       " ('nova', 7.192577421183621),\n",
       " ('anos', 7.190925714341704),\n",
       " ('12', 7.187097317708434),\n",
       " ('histórica', 7.176257467589047),\n",
       " ('ser', 7.165118018517769),\n",
       " ('diz', 7.163440884724095)]"
      ]
     },
     "execution_count": 42,
     "metadata": {},
     "output_type": "execute_result"
    }
   ],
   "source": [
    "rdd_doc_count_palavra2 = rdd_palavra2.flatMap(conta_palavras_em_doc).reduceByKey(junta_contagens).filter(filtra_doc_freq)\n",
    "rdd_idf_palavra2 = rdd_doc_count_palavra2.map(computa_idf)\n",
    "\n",
    "\n",
    "rdd_words_count_palavra2 = rdd_palavra2.flatMap(conta_palavras_total).reduceByKey(junta_contagens)\n",
    "rdd_words_freq_palavra2 = rdd_words_count_palavra2.map(computa_freq)\n",
    "\n",
    "rdd_join_palavra2 = rdd_words_freq_palavra2.join(rdd_idf_palavra2)\n",
    "rdd_relevancia_palavra2 = rdd_join_palavra2.map(computa_relevancia)\n",
    "\n",
    "list_relevance_palavra2 = list(rdd_relevancia_palavra2.collect())\n",
    "list_relevance_palavra2 = sorted(list_relevance_palavra2, key=lambda x: -x[1])[:100]\n",
    "list_relevance_palavra2"
   ]
  }
 ],
 "metadata": {
  "kernelspec": {
   "display_name": "Python 3",
   "language": "python",
   "name": "python3"
  },
  "language_info": {
   "codemirror_mode": {
    "name": "ipython",
    "version": 3
   },
   "file_extension": ".py",
   "mimetype": "text/x-python",
   "name": "python",
   "nbconvert_exporter": "python",
   "pygments_lexer": "ipython3",
   "version": "3.8.6"
  }
 },
 "nbformat": 4,
 "nbformat_minor": 4
}
